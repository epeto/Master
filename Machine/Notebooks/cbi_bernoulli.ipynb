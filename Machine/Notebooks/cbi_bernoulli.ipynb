{
 "cells": [
  {
   "cell_type": "markdown",
   "id": "7cf58ffa",
   "metadata": {},
   "source": [
    "<h2>Clasificador bayesiano ingenuo de Bernoulli</h2>"
   ]
  },
  {
   "cell_type": "markdown",
   "id": "cec17870",
   "metadata": {},
   "source": [
    "<p>En esta libreta programaremos un clasificador bayesiano ingenuo en el cual se presupone que la distribución de los atributos dada la clase es una Bernoulli y hay dos posibles clases.</p>"
   ]
  },
  {
   "cell_type": "code",
   "execution_count": 2,
   "id": "a5d178de",
   "metadata": {},
   "outputs": [],
   "source": [
    "import numpy as np\n",
    "import pandas as pd\n",
    "import matplotlib.pyplot as plt\n",
    "\n",
    "from sklearn.naive_bayes import BernoulliNB as SKBNB\n",
    "from sklearn.datasets import fetch_20newsgroups\n",
    "from sklearn.feature_extraction.text import CountVectorizer"
   ]
  },
  {
   "cell_type": "markdown",
   "id": "7f7299c9",
   "metadata": {},
   "source": [
    "<h3>Carga de datos</h3>"
   ]
  },
  {
   "cell_type": "markdown",
   "id": "d37fc804",
   "metadata": {},
   "source": [
    "<p>El conjunto de entrenamiento consiste de 11 documentos que pertenecen a las clases de deportes (0) o informática (1). Cada documento es un vector de 8 dimensiones donde cada dimensión representa la frecuencia de las palabras en nuestro vocabulario de interés:</p>"
   ]
  },
  {
   "cell_type": "markdown",
   "id": "621d5afa",
   "metadata": {},
   "source": [
    "$V =\n",
    "\\begin{equation}\n",
    "\\begin{vmatrix}\n",
    "p_1 & = & gol\\\\\n",
    "p_2 & = & maestro\\\\\n",
    "p_3 & = & velocidad\\\\\n",
    "p_4 & = & defensa\\\\\n",
    "p_5 & = &  rendimiento\\\\\n",
    "p_6 & = & campo\\\\\n",
    "p_7 & = & movimiento\\\\\n",
    "p_8 & = & ataque\n",
    "\\end{vmatrix}\n",
    "\\end{equation}$"
   ]
  },
  {
   "cell_type": "code",
   "execution_count": 3,
   "id": "8aff143e",
   "metadata": {},
   "outputs": [
    {
     "data": {
      "text/html": [
       "<div>\n",
       "<style scoped>\n",
       "    .dataframe tbody tr th:only-of-type {\n",
       "        vertical-align: middle;\n",
       "    }\n",
       "\n",
       "    .dataframe tbody tr th {\n",
       "        vertical-align: top;\n",
       "    }\n",
       "\n",
       "    .dataframe thead th {\n",
       "        text-align: right;\n",
       "    }\n",
       "</style>\n",
       "<table border=\"1\" class=\"dataframe\">\n",
       "  <thead>\n",
       "    <tr style=\"text-align: right;\">\n",
       "      <th></th>\n",
       "      <th>p1</th>\n",
       "      <th>p2</th>\n",
       "      <th>p3</th>\n",
       "      <th>p4</th>\n",
       "      <th>p5</th>\n",
       "      <th>p6</th>\n",
       "      <th>p7</th>\n",
       "      <th>p8</th>\n",
       "      <th>c</th>\n",
       "    </tr>\n",
       "  </thead>\n",
       "  <tbody>\n",
       "    <tr>\n",
       "      <th>0</th>\n",
       "      <td>1</td>\n",
       "      <td>0</td>\n",
       "      <td>1</td>\n",
       "      <td>0</td>\n",
       "      <td>1</td>\n",
       "      <td>1</td>\n",
       "      <td>0</td>\n",
       "      <td>1</td>\n",
       "      <td>0</td>\n",
       "    </tr>\n",
       "    <tr>\n",
       "      <th>1</th>\n",
       "      <td>1</td>\n",
       "      <td>0</td>\n",
       "      <td>1</td>\n",
       "      <td>0</td>\n",
       "      <td>0</td>\n",
       "      <td>1</td>\n",
       "      <td>0</td>\n",
       "      <td>0</td>\n",
       "      <td>0</td>\n",
       "    </tr>\n",
       "    <tr>\n",
       "      <th>2</th>\n",
       "      <td>0</td>\n",
       "      <td>0</td>\n",
       "      <td>1</td>\n",
       "      <td>0</td>\n",
       "      <td>1</td>\n",
       "      <td>1</td>\n",
       "      <td>0</td>\n",
       "      <td>1</td>\n",
       "      <td>0</td>\n",
       "    </tr>\n",
       "    <tr>\n",
       "      <th>3</th>\n",
       "      <td>0</td>\n",
       "      <td>0</td>\n",
       "      <td>0</td>\n",
       "      <td>1</td>\n",
       "      <td>1</td>\n",
       "      <td>0</td>\n",
       "      <td>1</td>\n",
       "      <td>1</td>\n",
       "      <td>0</td>\n",
       "    </tr>\n",
       "    <tr>\n",
       "      <th>4</th>\n",
       "      <td>1</td>\n",
       "      <td>1</td>\n",
       "      <td>0</td>\n",
       "      <td>0</td>\n",
       "      <td>0</td>\n",
       "      <td>1</td>\n",
       "      <td>0</td>\n",
       "      <td>1</td>\n",
       "      <td>0</td>\n",
       "    </tr>\n",
       "    <tr>\n",
       "      <th>5</th>\n",
       "      <td>0</td>\n",
       "      <td>0</td>\n",
       "      <td>1</td>\n",
       "      <td>1</td>\n",
       "      <td>1</td>\n",
       "      <td>1</td>\n",
       "      <td>0</td>\n",
       "      <td>0</td>\n",
       "      <td>0</td>\n",
       "    </tr>\n",
       "    <tr>\n",
       "      <th>6</th>\n",
       "      <td>0</td>\n",
       "      <td>1</td>\n",
       "      <td>0</td>\n",
       "      <td>1</td>\n",
       "      <td>0</td>\n",
       "      <td>0</td>\n",
       "      <td>1</td>\n",
       "      <td>0</td>\n",
       "      <td>1</td>\n",
       "    </tr>\n",
       "    <tr>\n",
       "      <th>7</th>\n",
       "      <td>1</td>\n",
       "      <td>0</td>\n",
       "      <td>0</td>\n",
       "      <td>1</td>\n",
       "      <td>1</td>\n",
       "      <td>0</td>\n",
       "      <td>1</td>\n",
       "      <td>1</td>\n",
       "      <td>1</td>\n",
       "    </tr>\n",
       "    <tr>\n",
       "      <th>8</th>\n",
       "      <td>0</td>\n",
       "      <td>1</td>\n",
       "      <td>0</td>\n",
       "      <td>1</td>\n",
       "      <td>0</td>\n",
       "      <td>1</td>\n",
       "      <td>1</td>\n",
       "      <td>0</td>\n",
       "      <td>1</td>\n",
       "    </tr>\n",
       "    <tr>\n",
       "      <th>9</th>\n",
       "      <td>0</td>\n",
       "      <td>0</td>\n",
       "      <td>0</td>\n",
       "      <td>1</td>\n",
       "      <td>0</td>\n",
       "      <td>0</td>\n",
       "      <td>1</td>\n",
       "      <td>1</td>\n",
       "      <td>1</td>\n",
       "    </tr>\n",
       "    <tr>\n",
       "      <th>10</th>\n",
       "      <td>0</td>\n",
       "      <td>1</td>\n",
       "      <td>1</td>\n",
       "      <td>1</td>\n",
       "      <td>0</td>\n",
       "      <td>0</td>\n",
       "      <td>1</td>\n",
       "      <td>1</td>\n",
       "      <td>1</td>\n",
       "    </tr>\n",
       "  </tbody>\n",
       "</table>\n",
       "</div>"
      ],
      "text/plain": [
       "    p1  p2  p3  p4  p5  p6  p7  p8  c \n",
       "0    1   0   1   0   1   1   0   1   0\n",
       "1    1   0   1   0   0   1   0   0   0\n",
       "2    0   0   1   0   1   1   0   1   0\n",
       "3    0   0   0   1   1   0   1   1   0\n",
       "4    1   1   0   0   0   1   0   1   0\n",
       "5    0   0   1   1   1   1   0   0   0\n",
       "6    0   1   0   1   0   0   1   0   1\n",
       "7    1   0   0   1   1   0   1   1   1\n",
       "8    0   1   0   1   0   1   1   0   1\n",
       "9    0   0   0   1   0   0   1   1   1\n",
       "10   0   1   1   1   0   0   1   1   1"
      ]
     },
     "execution_count": 3,
     "metadata": {},
     "output_type": "execute_result"
    }
   ],
   "source": [
    "df = pd.read_csv('https://raw.githubusercontent.com/gibranfp/CursoAprendizajeAutomatizado/master/data/dep_inf.csv')\n",
    "df"
   ]
  },
  {
   "cell_type": "markdown",
   "id": "b6bdf0e2",
   "metadata": {},
   "source": [
    "<p>Conversión a numpy</p>"
   ]
  },
  {
   "cell_type": "code",
   "execution_count": 8,
   "id": "f1d2aef5",
   "metadata": {},
   "outputs": [],
   "source": [
    "data = df.to_numpy()\n",
    "X_ent = data[:, : -1]\n",
    "y_ent = data[:, -1]\n",
    "X_nuevos = np.array([[0, 0, 0 , 1, 1, 1, 1, 1], [0, 1, 0, 1, 1, 0, 0, 1]])"
   ]
  },
  {
   "cell_type": "markdown",
   "id": "d30be709",
   "metadata": {},
   "source": [
    "<h3>Clasificador bayesiano ingenuo para distribución de Bernoulli</h3>"
   ]
  },
  {
   "cell_type": "markdown",
   "id": "a329c450",
   "metadata": {},
   "source": [
    "<p>Definimos una función para obtener la probabilidad de 0 o 1 dada una distribución de Bernoulli con parámetro.</p>"
   ]
  },
  {
   "cell_type": "code",
   "execution_count": 5,
   "id": "eaaefdae",
   "metadata": {},
   "outputs": [],
   "source": [
    "# Distribución de bernoulli\n",
    "def bernoulli(x, q):\n",
    "  return q**x * (1.0 - q)**(1.0 - x)"
   ]
  },
  {
   "cell_type": "markdown",
   "id": "05449d5e",
   "metadata": {},
   "source": [
    "<p>Definimos una clase con el clasificador bayesiano ingenuo para atributos binarios y estimación de parámetros por máxima verosimilitud.</p>"
   ]
  },
  {
   "cell_type": "code",
   "execution_count": 6,
   "id": "9fdf06ee",
   "metadata": {},
   "outputs": [
    {
     "data": {
      "text/plain": [
       "array([[0.8, 0.3, 0.4],\n",
       "       [0.2, 0.7, 0.6]])"
      ]
     },
     "execution_count": 6,
     "metadata": {},
     "output_type": "execute_result"
    }
   ],
   "source": [
    "bernoulli(np.array([[0, 1, 1], [1,0,0]]), np.array([0.2, 0.3, 0.4]))"
   ]
  },
  {
   "cell_type": "code",
   "execution_count": 11,
   "id": "f4bc237f",
   "metadata": {},
   "outputs": [
    {
     "name": "stdout",
     "output_type": "stream",
     "text": [
      "[1 0]\n",
      "[[0.0015588  0.00279273]\n",
      " [0.00031176 0.        ]]\n"
     ]
    }
   ],
   "source": [
    "class BernoulliNB:\n",
    "    #Estima parámetros por máxima verosimilitud\n",
    "    def fit(self, X, y):\n",
    "        self.clases = np.unique(y) #Devuelve los elementos de y, sin repeticiones\n",
    "        self.n_clases = self.clases.size\n",
    "        self.n_atr = X.shape[-1]\n",
    "        n = X.shape[0]\n",
    "        \n",
    "        self.qa = np.zeros((self.n_clases, self.n_atr)) # crea una matriz de ceros de |clases|x|atributos|\n",
    "        self.qc = np.zeros((self.n_clases)) # crea un arreglo de ceros de tamaño |clases|\n",
    "        for i,c in enumerate(self.clases):\n",
    "            Xc = X[np.where(y == c)]\n",
    "            nc = Xc.shape[0]\n",
    "            cuentas = np.count_nonzero(Xc, axis = 0)\n",
    "            self.qa[i, :] =  cuentas / nc\n",
    "            self.qc[i] = nc / n\n",
    "    \n",
    "    # calcula a posteriori (proporcional) de un conjunto de datos\n",
    "    def predict_proba(self, X):\n",
    "        prop = np.zeros((X.shape[0], self.n_clases))\n",
    "        for i in range(self.n_clases):\n",
    "            prop[:, i] = np.prod(bernoulli(X, self.qa[i, :]), axis=1) * self.qc[i]\n",
    "        return prop\n",
    "    \n",
    "    # Predice clases de conjunto de datos\n",
    "    def predict(self, X):\n",
    "        return np.argmax(self.predict_proba(X), axis=1)\n",
    "    \n",
    "bnb = BernoulliNB()\n",
    "bnb.fit(X_ent, y_ent)\n",
    "y_bnb = bnb.predict(X_nuevos)\n",
    "p_bnb = bnb.predict_proba(X_nuevos)\n",
    "\n",
    "print(y_bnb)\n",
    "print(p_bnb)"
   ]
  },
  {
   "cell_type": "markdown",
   "id": "ce626bf0",
   "metadata": {},
   "source": [
    "El método <tt>predict_proba</tt> calcula la proporcional de la probabilidad a posteriori."
   ]
  },
  {
   "cell_type": "markdown",
   "id": "d48041ad",
   "metadata": {},
   "source": [
    "$$P(x|y)\\cdot P(y) \\propto P(y|x)$$"
   ]
  },
  {
   "cell_type": "markdown",
   "id": "a9a4d209",
   "metadata": {},
   "source": [
    "Para obtener la probabilidad a posteriori es necesario dividir $P(x|y) \\cdot P(y)$ entre $P(x)$"
   ]
  },
  {
   "cell_type": "markdown",
   "id": "718fa211",
   "metadata": {},
   "source": [
    "$$ P(x) = \\sum_c P(x,y=c) = \\sum_c P(x|y = c)P(y=c) $$"
   ]
  },
  {
   "cell_type": "code",
   "execution_count": 12,
   "id": "d451b6e9",
   "metadata": {},
   "outputs": [
    {
     "name": "stdout",
     "output_type": "stream",
     "text": [
      "Probabilidad a posteriori\n",
      "[[0.83333333 1.        ]\n",
      " [0.16666667 0.        ]]\n"
     ]
    }
   ],
   "source": [
    "proba_bnb = (p_bnb / p_bnb.sum(axis=0))\n",
    "print(\"Probabilidad a posteriori\")\n",
    "print(proba_bnb)"
   ]
  },
  {
   "cell_type": "code",
   "execution_count": null,
   "id": "e5b6338d",
   "metadata": {},
   "outputs": [],
   "source": []
  }
 ],
 "metadata": {
  "kernelspec": {
   "display_name": "Python 3 (ipykernel)",
   "language": "python",
   "name": "python3"
  },
  "language_info": {
   "codemirror_mode": {
    "name": "ipython",
    "version": 3
   },
   "file_extension": ".py",
   "mimetype": "text/x-python",
   "name": "python",
   "nbconvert_exporter": "python",
   "pygments_lexer": "ipython3",
   "version": "3.10.6"
  }
 },
 "nbformat": 4,
 "nbformat_minor": 5
}
