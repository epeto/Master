{
 "cells": [
  {
   "cell_type": "markdown",
   "id": "ffcfae40",
   "metadata": {},
   "source": [
    "# Go"
   ]
  },
  {
   "cell_type": "code",
   "execution_count": 1,
   "id": "568010e3",
   "metadata": {},
   "outputs": [],
   "source": [
    "from sklearn import naive_bayes\n",
    "import pandas as pd\n",
    "import numpy as np\n",
    "import math\n",
    "import random\n",
    "import matplotlib.pyplot as plt\n",
    "from sklearn.metrics import precision_recall_curve, auc"
   ]
  },
  {
   "cell_type": "markdown",
   "id": "dcf2d883",
   "metadata": {},
   "source": [
    "Primero se leerán los datos."
   ]
  },
  {
   "cell_type": "code",
   "execution_count": 2,
   "id": "47685583",
   "metadata": {},
   "outputs": [],
   "source": [
    "datacsv_ent = pd.read_csv('partidas_entrenamiento.csv')\n",
    "datanp_ent = datacsv_ent.to_numpy()\n",
    "X_ent = datanp_ent[:, :-1]\n",
    "y_ent = datanp_ent[:, -1]\n",
    "datacsv_pru = pd.read_csv('partidas_prueba.csv')\n",
    "datanp_pru = datacsv_pru.to_numpy()\n",
    "X_pru = datanp_pru[:, :-1]\n",
    "y_pru = datanp_pru[:, -1]"
   ]
  },
  {
   "cell_type": "markdown",
   "id": "b3579fdb",
   "metadata": {},
   "source": [
    "## Clasificador bayesiano ingenuo"
   ]
  },
  {
   "cell_type": "markdown",
   "id": "40224d6c",
   "metadata": {},
   "source": [
    "Se entrenará un clasificador bayesiano ingenuo para predecir las partidas de Go. Se asumirá distribución categórica. Se va a evaluar este clasificador con el conjunto de prueba."
   ]
  },
  {
   "cell_type": "code",
   "execution_count": 3,
   "id": "ab1609b0",
   "metadata": {},
   "outputs": [],
   "source": [
    "## Calcula los verdaderos positivos, verdaderos negativos, falsos positivos y falsos negativos\n",
    "# de un clasificador, dado un conjunto de prueba.\n",
    "def evaluacion(clasificador, X_test, y_test):\n",
    "    vp = 0\n",
    "    vn = 0\n",
    "    fp = 0\n",
    "    fn = 0\n",
    "    prediccion = clasificador.predict(X_test)\n",
    "    for i in range(y_test.shape[0]):\n",
    "        if y_test[i] == 1 and prediccion[i] == 1:\n",
    "            vp += 1\n",
    "        elif y_test[i] == 0 and prediccion[i] == 0:\n",
    "            vn += 1\n",
    "        elif y_test[i] == 1 and prediccion[i] == 0:\n",
    "            fn += 1\n",
    "        else: # y_test[i] == 0 and prediccion[i] == 1\n",
    "            fp += 1\n",
    "    return (vp, vn, fp, fn)"
   ]
  },
  {
   "cell_type": "code",
   "execution_count": 4,
   "id": "a424e762",
   "metadata": {},
   "outputs": [
    {
     "name": "stdout",
     "output_type": "stream",
     "text": [
      "Precisión: 0.7764705882352941\n",
      "Exhaustividad: 0.8048780487804879\n",
      "Tasa de falsos positivos: 0.5757575757575758\n"
     ]
    }
   ],
   "source": [
    "nbc_cat = naive_bayes.CategoricalNB()\n",
    "nbc_cat.fit(X_ent, y_ent)\n",
    "vp_nbc, vn_nbc, fp_nbc, fn_nbc = evaluacion(nbc_cat, X_pru, y_pru)\n",
    "precision_nbc = vp_nbc / (vp_nbc + fp_nbc)\n",
    "exhaustividad_nbc = vp_nbc / (fn_nbc + vp_nbc)\n",
    "tasafp_nbc = fp_nbc / (vn_nbc + fp_nbc)\n",
    "print('Precisión:', precision_nbc)\n",
    "print('Exhaustividad:', exhaustividad_nbc)\n",
    "print('Tasa de falsos positivos:', tasafp_nbc)"
   ]
  },
  {
   "cell_type": "markdown",
   "id": "804a2147",
   "metadata": {},
   "source": [
    "Se generarán 10 nuevas partidas, dado el clasificador entrenado."
   ]
  },
  {
   "cell_type": "code",
   "execution_count": 5,
   "id": "6c7136e2",
   "metadata": {},
   "outputs": [
    {
     "name": "stdout",
     "output_type": "stream",
     "text": [
      "Partidas generadas:\n",
      "[[110  27   0]\n",
      " [ 65   2   0]\n",
      " [109  41   0]\n",
      " [129  80   0]\n",
      " [112   7   1]\n",
      " [ 50  35   0]\n",
      " [118 109   0]\n",
      " [ 75  25   1]\n",
      " [ 16  51   0]\n",
      " [ 14  35   0]]\n"
     ]
    }
   ],
   "source": [
    "## Función para generar partidas aleatorias\n",
    "# @param cbi: clasificador bayesiano ingenuo previamente entrenado\n",
    "# @param num_matches: número de partidas\n",
    "# @param maximo_id: id máximo de los jugadores\n",
    "def genera_partidas(cbi, num_matches, maximo_id):\n",
    "    lista_partidas = []\n",
    "    for i in range(num_matches):\n",
    "        partida = []\n",
    "        j1 = random.randint(1, maximo_id)\n",
    "        j2 = random.randint(1, maximo_id)\n",
    "        partida.append(j1)\n",
    "        partida.append(j2)\n",
    "        lista_partidas.append(partida)\n",
    "    xpg = np.array(lista_partidas)\n",
    "    ypg = cbi.predict(xpg)\n",
    "    return (xpg, ypg)\n",
    "\n",
    "X_gen, y_gen = genera_partidas(nbc_cat, 10, X_ent.max()-1)\n",
    "partidas_nuevas = np.concatenate([X_gen, y_gen[:,np.newaxis]], axis = 1)\n",
    "print('Partidas generadas:')\n",
    "print(partidas_nuevas)"
   ]
  },
  {
   "cell_type": "markdown",
   "id": "3769e25f",
   "metadata": {},
   "source": [
    "En este punto, se le concatenará una columna de 1's a todas las X's."
   ]
  },
  {
   "cell_type": "code",
   "execution_count": 6,
   "id": "2e8a9a51",
   "metadata": {},
   "outputs": [],
   "source": [
    "def concat1(mat):\n",
    "    unos = np.ones((mat.shape[0], 1))\n",
    "    return np.concatenate([unos, mat], axis = 1)\n",
    "\n",
    "X_ent = concat1(X_ent)\n",
    "X_pru = concat1(X_pru)\n",
    "X_gen = concat1(X_gen)"
   ]
  },
  {
   "cell_type": "markdown",
   "id": "0f02e68b",
   "metadata": {},
   "source": [
    "## Regresión logística\n",
    "Se definirá una clase de regresión logística. Asume que los vectores de entrada tienen un 1 pegado a la izquierda."
   ]
  },
  {
   "cell_type": "code",
   "execution_count": 7,
   "id": "5907d99c",
   "metadata": {},
   "outputs": [],
   "source": [
    "## Definición de función sigmoide\n",
    "def sigm(z):\n",
    "    den = 1 + math.exp(-z)\n",
    "    return 1/den"
   ]
  },
  {
   "cell_type": "code",
   "execution_count": 8,
   "id": "29dcd267",
   "metadata": {},
   "outputs": [],
   "source": [
    "class RegresionLogistica():\n",
    "    def __init__(self, alfa = 3e-4, max_iter = 100000, tol = 1e-4):\n",
    "        self.alfa = alfa\n",
    "        self.max_iter = max_iter\n",
    "        self.theta = np.zeros(1)\n",
    "        self.tol = tol\n",
    "    \n",
    "    # Calcula el vector q\n",
    "    def calcula_q(self, Xp):\n",
    "        v1 = np.zeros(Xp.shape[0])\n",
    "        for i in range(Xp.shape[0]):\n",
    "            v1[i] = np.dot(self.theta, Xp[i])\n",
    "        return np.array(list(map(sigm, v1)))\n",
    "    \n",
    "    # Inicializa el vector theta con valores aleatorios\n",
    "    def ini_theta(self, d):\n",
    "        self.theta = np.random.rand(d)\n",
    "    \n",
    "    # Cálculo del vector gradiente\n",
    "    def gradiente(self, X, q, y):\n",
    "        return X.T @ (q - y)\n",
    "    \n",
    "    def tolerancia(self, theta1, theta2):\n",
    "        max_tol = -1\n",
    "        for i in range(theta1.shape[0]):\n",
    "            delta = math.fabs(theta1[i] - theta2[i])\n",
    "            if delta > max_tol:\n",
    "                max_tol = delta\n",
    "        return max_tol\n",
    "    \n",
    "    # Algoritmo de descenso por gradiente\n",
    "    def descenso(self, X, y):\n",
    "        self.ini_theta(X.shape[1])\n",
    "        for it in range(self.max_iter):\n",
    "            q = self.calcula_q(X)\n",
    "            theta2 = self.theta - self.alfa*self.gradiente(X, q, y)\n",
    "            if self.tolerancia(self.theta, theta2) < self.tol:\n",
    "                break\n",
    "            else:\n",
    "                self.theta = theta2\n",
    "    \n",
    "    # Entrenamiento\n",
    "    def fit(self, X, y):\n",
    "        self.descenso(X, y)\n",
    "    \n",
    "    # devuelve las probabilidades, dadas las thetas y las x\n",
    "    def predict_proba(self, X):\n",
    "        return self.calcula_q(X)\n",
    "    \n",
    "    # devuelve una predicción\n",
    "    def predict(self, X):\n",
    "        probas = self.predict_proba(X)\n",
    "        prediccion = np.zeros(shape = probas.shape, dtype = np.int32)\n",
    "        for i in range(probas.shape[0]):\n",
    "            if probas[i] > 0.5:\n",
    "                prediccion[i] = 1\n",
    "        return prediccion"
   ]
  },
  {
   "cell_type": "markdown",
   "id": "78a49aa0",
   "metadata": {},
   "source": [
    "Antes de hacer la regresión, se realizará un reescalado de los datos, y así todos los datos estarán entre 0 y 1."
   ]
  },
  {
   "cell_type": "code",
   "execution_count": 9,
   "id": "bcd08740",
   "metadata": {},
   "outputs": [],
   "source": [
    "def reescalado(X):\n",
    "    X_ree = np.ones(X.shape)\n",
    "    for c in range(1, X.shape[1]):\n",
    "        columna = X[:,c]\n",
    "        xmax = columna.max()\n",
    "        xmin = columna.min()\n",
    "        for f in range(X.shape[0]):\n",
    "            X_ree[f][c] = (X[f][c] - xmin)/(xmax - xmin)\n",
    "    return X_ree\n",
    "\n",
    "X_ent_re = reescalado(X_ent)\n",
    "X_pru_re = reescalado(X_pru)\n",
    "X_gen_re = reescalado(X_gen)"
   ]
  },
  {
   "cell_type": "markdown",
   "id": "e7d633bd",
   "metadata": {},
   "source": [
    "Se entrena el modelo y visualizamos los parámetros (las $\\theta$'s)."
   ]
  },
  {
   "cell_type": "code",
   "execution_count": 10,
   "id": "62eb97a5",
   "metadata": {},
   "outputs": [
    {
     "name": "stdout",
     "output_type": "stream",
     "text": [
      "[ 0.22775439  0.45199369 -0.72859031]\n"
     ]
    }
   ],
   "source": [
    "rlog = RegresionLogistica()\n",
    "rlog.fit(X_ent_re, y_ent)\n",
    "print(rlog.theta)"
   ]
  },
  {
   "cell_type": "markdown",
   "id": "019b49f0",
   "metadata": {},
   "source": [
    "Los números observados son las thetas: $[\\theta_0, \\theta_1, \\theta_2]$ para el modelo de regresión logística:\n",
    "$$ P(y=1|x) = \\frac{1}{1+exp(-(\\theta_0 + \\theta_1 x_1 + \\theta_2 x_2))}$$"
   ]
  },
  {
   "cell_type": "markdown",
   "id": "6352d427",
   "metadata": {},
   "source": [
    "## Curvas"
   ]
  },
  {
   "cell_type": "markdown",
   "id": "1ca192ab",
   "metadata": {},
   "source": [
    "Ahora se graficarán las curvas ROC y de precisión-exhaustividad."
   ]
  },
  {
   "cell_type": "code",
   "execution_count": 11,
   "id": "1ee8e4d8",
   "metadata": {},
   "outputs": [],
   "source": [
    "def roc(probabilities, y):\n",
    "    # obtenemos los indices de las predicciones ordenadas de menor a mayor probabilidad\n",
    "    orden = np.argsort(probabilities)[::-1]\n",
    "    # ordenamos predicciones y valores reales\n",
    "    porden = probabilities[orden]\n",
    "    yorden = y[orden]\n",
    "    # Nos quedamos únicamente con los índices repetidos\n",
    "    idxs = np.unique(porden, return_index = True)[1][::-1]\n",
    "    rvps = yorden[idxs].cumsum()\n",
    "    rfps = 1.0 + idxs - rvps \n",
    "    n_pos = y.sum()\n",
    "    n_neg = y.shape[0] - n_pos\n",
    "\n",
    "    return rvps / n_pos, rfps / n_neg"
   ]
  },
  {
   "cell_type": "markdown",
   "id": "9481ab7b",
   "metadata": {},
   "source": [
    "Podemos calcular el área bajo la curva ROC usando usando la fórmula de shoelace."
   ]
  },
  {
   "cell_type": "code",
   "execution_count": 12,
   "id": "59a0faf1",
   "metadata": {},
   "outputs": [],
   "source": [
    "def area_poligono(vertices):\n",
    "    area = 0.0\n",
    "    n_vert = len(vertices)\n",
    "    for i in range(n_vert - 1):\n",
    "        area = area + vertices[i][0] * vertices[i + 1][1]\n",
    "        area = area - vertices[i + 1][0] * vertices[i][1]\n",
    "    area = area + vertices[n_vert - 1][0] * vertices[0][1]\n",
    "    area = area - vertices[0][0] * vertices[n_vert - 1][1]\n",
    "    return 0.5 * abs(area)\n",
    "\n",
    "def compute_aucroc(tfp, tvp):\n",
    "    auc = 0.0\n",
    "    fprev = 0.0\n",
    "    vprev = 0.0\n",
    "    for i,(f,v) in enumerate(zip(tfp, tvp)):\n",
    "        auc += area_poligono([[fprev, 0], [fprev, vprev], [f, v], [f, 0]])\n",
    "        fprev = f\n",
    "        vprev = v\n",
    "    return auc"
   ]
  },
  {
   "cell_type": "markdown",
   "id": "6a6b17fa",
   "metadata": {},
   "source": [
    "Evaluamos el modelo de regresión logística (<tt>rlog</tt>)."
   ]
  },
  {
   "cell_type": "code",
   "execution_count": 13,
   "id": "06e5f855",
   "metadata": {},
   "outputs": [
    {
     "name": "stdout",
     "output_type": "stream",
     "text": [
      "Precisión: 0.7368421052631579\n",
      "Exhaustividad: 0.8536585365853658\n",
      "Tasa de falsos positivos: 0.7575757575757576\n"
     ]
    }
   ],
   "source": [
    "vp_rlog, vn_rlog, fp_rlog, fn_rlog = evaluacion(rlog, X_pru_re, y_pru)\n",
    "precision_rlog = vp_rlog / (vp_rlog + fp_rlog)\n",
    "exhaustividad_rlog = vp_rlog / (fn_rlog + vp_rlog)\n",
    "tasafp_rlog = fp_rlog / (vn_rlog + fp_rlog)\n",
    "print('Precisión:', precision_rlog)\n",
    "print('Exhaustividad:', exhaustividad_rlog)\n",
    "print('Tasa de falsos positivos:', tasafp_rlog)"
   ]
  },
  {
   "cell_type": "markdown",
   "id": "4b025d57",
   "metadata": {},
   "source": [
    "### Curva ROC"
   ]
  },
  {
   "cell_type": "code",
   "execution_count": 14,
   "id": "457a94da",
   "metadata": {},
   "outputs": [
    {
     "data": {
      "image/png": "[encoded data removed]",
      "text/plain": [
       "<Figure size 640x480 with 1 Axes>"
      ]
     },
     "metadata": {},
     "output_type": "display_data"
    },
    {
     "name": "stdout",
     "output_type": "stream",
     "text": [
      "Área bajo la curva: 0.5770509977827052\n"
     ]
    }
   ],
   "source": [
    "probas_rlog = rlog.predict_proba(X_pru_re)\n",
    "rvps, rfps = roc(probas_rlog, y_pru)\n",
    "plt.plot(rfps, rvps)\n",
    "plt.plot([0, 1], [0, 1], '--')\n",
    "plt.fill_between(rfps, rvps, 0, alpha=0.5, color = 'lightblue')\n",
    "plt.xlabel('Tasa de falsos positivos')\n",
    "plt.ylabel('Tasa de verdaderos positivos')\n",
    "plt.show()\n",
    "aucroc = compute_aucroc(rfps, rvps)\n",
    "print('Área bajo la curva:', aucroc)"
   ]
  },
  {
   "cell_type": "markdown",
   "id": "92d42d48",
   "metadata": {},
   "source": [
    "### Curva de precisión-exhaustividad"
   ]
  },
  {
   "cell_type": "code",
   "execution_count": 15,
   "id": "00396c36",
   "metadata": {},
   "outputs": [
    {
     "data": {
      "image/png": "[encoded data removed]",
      "text/plain": [
       "<Figure size 640x480 with 1 Axes>"
      ]
     },
     "metadata": {},
     "output_type": "display_data"
    },
    {
     "name": "stdout",
     "output_type": "stream",
     "text": [
      "Área bajo la curva: 0.7588614364932231\n"
     ]
    }
   ],
   "source": [
    "ps, rs, _ = precision_recall_curve(y_pru, probas_rlog)\n",
    "plt.plot(rs, ps)\n",
    "plt.plot([0, 1], [0, 1], '--')\n",
    "plt.fill_between(rs, ps, 0, alpha=0.5, color = 'lightblue')\n",
    "plt.xlabel('Exhaustividad')\n",
    "plt.ylabel('Precisión')\n",
    "plt.show()\n",
    "aucpe = auc(rs, ps)\n",
    "print('Área bajo la curva:', aucpe)"
   ]
  },
  {
   "cell_type": "markdown",
   "id": "a72ee595",
   "metadata": {},
   "source": [
    "## Diferencias entre clasificador bayesiano ingenuo y regresión logística"
   ]
  },
  {
   "cell_type": "markdown",
   "id": "8287b2c5",
   "metadata": {},
   "source": [
    "- ¿Qué ventajas y desventajas tienen los modelos entrenados?\n",
    "\n",
    "<b>Ventajas del CBI:</b> Tienen solución cerrada, hay diferentes tipos de distribuciones, funcionan mejor con números enteros.\n",
    "\n",
    "<b>Desventajas del CBI:</b> Es necesario saber qué distribución usar, supone independencia de las variables de entrada.\n",
    "\n",
    "<b>Ventajas de regresión logística:</b> No es necesario hacer suposiciones sobre las variables de entrada, funciona para cualquier valor numérico.\n",
    "\n",
    "<b>Desventajas de regresión logística:</b> No tienen solución cerrada, los valores de las características pueden estar en rangos de valores muy diferentes (lo cual puede afectar la convergencia), se puede sobreajustar a los valores de entrenamiento."
   ]
  },
  {
   "cell_type": "markdown",
   "id": "fe31739f",
   "metadata": {},
   "source": [
    "- ¿Qué pasaría si se entrena el clasificador bayesiano ingenuo con los vectores recodificados o si se entrena un modelo de regresión logística usando los vectores de entrada originales?\n",
    "\n",
    "<b>Entrenar cbi con valores recodificados:</b> Dado que se eligió una distribución categórica, no es posible entrenar el clasificador bayesiano con los valores recodificados (que van de 0 a 1). Habría sido necesario elegir otro tipo de distribución (gausiana, por ejemplo).\n",
    "\n",
    "<b>Entrenar rl con valores no codificados:</b> En la regresión logística se tiene el término $exp(-\\theta^{\\top} x)$. Si los valores de $x$ son muy grandes, entonces $\\theta^{\\top} x$ será muy grande, lo que hará que $exp(-\\theta^{\\top} x)$ se redondee a 0 (por la precisión de las computadoras) y entonces no convergerá."
   ]
  },
  {
   "cell_type": "markdown",
   "id": "a24e8f5a",
   "metadata": {},
   "source": [
    "- ¿Consideras que las presuposiciones de cada clasificador son apropiadas para los datos del problema?\n",
    "\n",
    "Sí"
   ]
  },
  {
   "cell_type": "markdown",
   "id": "8e2cd82b",
   "metadata": {},
   "source": [
    "- ¿Para este tipo de problemas cuál de los dos recomendarías y por qué?\n",
    "\n",
    "Recomendaría el clasificador bayesiano ingenuo, pues los valores de entrada son números enteros que van de 1 a $j$, donde $j$ es el número máximo de jugadores."
   ]
  },
  {
   "cell_type": "code",
   "execution_count": null,
   "id": "e717f963",
   "metadata": {},
   "outputs": [],
   "source": []
  }
 ],
 "metadata": {
  "kernelspec": {
   "display_name": "Python 3 (ipykernel)",
   "language": "python",
   "name": "python3"
  },
  "language_info": {
   "codemirror_mode": {
    "name": "ipython",
    "version": 3
   },
   "file_extension": ".py",
   "mimetype": "text/x-python",
   "name": "python",
   "nbconvert_exporter": "python",
   "pygments_lexer": "ipython3",
   "version": "3.10.6"
  }
 },
 "nbformat": 4,
 "nbformat_minor": 5
}
