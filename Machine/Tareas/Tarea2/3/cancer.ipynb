{
 "cells": [
  {
   "cell_type": "markdown",
   "id": "8cce23a5",
   "metadata": {},
   "source": [
    "# Cáncer"
   ]
  },
  {
   "cell_type": "code",
   "execution_count": 1,
   "id": "b08d726a",
   "metadata": {},
   "outputs": [],
   "source": [
    "import numpy as np\n",
    "import math\n",
    "import pandas as pd\n",
    "from sklearn.naive_bayes import GaussianNB\n",
    "from sklearn.model_selection import train_test_split\n",
    "from sklearn.model_selection import RepeatedStratifiedKFold\n",
    "from sklearn.linear_model import LogisticRegression"
   ]
  },
  {
   "cell_type": "code",
   "execution_count": 2,
   "id": "0ce0a8fd",
   "metadata": {},
   "outputs": [],
   "source": [
    "## Calcula los verdaderos positivos, verdaderos negativos, falsos positivos y falsos negativos\n",
    "# de un clasificador, dado un conjunto de prueba.\n",
    "def evaluacion(clasificador, X_test, y_test):\n",
    "    vp = 0\n",
    "    vn = 0\n",
    "    fp = 0\n",
    "    fn = 0\n",
    "    prediccion = clasificador.predict(X_test)\n",
    "    for i in range(y_test.shape[0]):\n",
    "        if y_test[i] == 1 and prediccion[i] == 1:\n",
    "            vp += 1\n",
    "        elif y_test[i] == 0 and prediccion[i] == 0:\n",
    "            vn += 1\n",
    "        elif y_test[i] == 1 and prediccion[i] == 0:\n",
    "            fn += 1\n",
    "        else: # y_test[i] == 0 and prediccion[i] == 1\n",
    "            fp += 1\n",
    "    return (vp, vn, fp, fn)"
   ]
  },
  {
   "cell_type": "markdown",
   "id": "a1c34c9f",
   "metadata": {},
   "source": [
    "Se leen y se editan los datos."
   ]
  },
  {
   "cell_type": "code",
   "execution_count": 3,
   "id": "a0aaa095",
   "metadata": {},
   "outputs": [],
   "source": [
    "datacsv = pd.read_csv('breast-cancer-wisconsin.csv')\n",
    "datanp = datacsv.to_numpy()\n",
    "Xinput = datanp[:, :-1]\n",
    "yinput = datanp[:, -1]\n",
    "X, X_pru, y, y_pru = train_test_split(Xinput, yinput, test_size=0.1, random_state=1234)"
   ]
  },
  {
   "cell_type": "markdown",
   "id": "cca32309",
   "metadata": {},
   "source": [
    "## Gaussian Naive Bayes"
   ]
  },
  {
   "cell_type": "code",
   "execution_count": 4,
   "id": "b89039d9",
   "metadata": {},
   "outputs": [
    {
     "name": "stdout",
     "output_type": "stream",
     "text": [
      "Precisión: 0.9056230307877885\n",
      "Exhaustividad: 0.9802547065337761\n",
      "Tasa de falsos positivos: 0.052865748709122196\n"
     ]
    }
   ],
   "source": [
    "nbc = GaussianNB()\n",
    "rskf = RepeatedStratifiedKFold(n_splits=5, n_repeats=10)\n",
    "precision_nbc = 0\n",
    "exhaustividad_nbc = 0\n",
    "tasafp_nbc = 0\n",
    "for train_index, test_index in rskf.split(X, y):\n",
    "    X_train = X[train_index]\n",
    "    y_train = y[train_index]\n",
    "    X_test = X[test_index]\n",
    "    y_test = y[test_index]\n",
    "    nbc.fit(X_train, y_train)\n",
    "    vp_nbc, vn_nbc, fp_nbc, fn_nbc = evaluacion(nbc, X_test, y_test)\n",
    "    if vp_nbc + fp_nbc > 0:\n",
    "        precision_nbc += vp_nbc / (vp_nbc + fp_nbc)\n",
    "    if fn_nbc + vp_nbc > 0:\n",
    "        exhaustividad_nbc += vp_nbc / (fn_nbc + vp_nbc)\n",
    "    if vn_nbc + fp_nbc > 0:\n",
    "        tasafp_nbc += fp_nbc / (vn_nbc + fp_nbc)\n",
    "\n",
    "precision_nbc /= (5*10)\n",
    "exhaustividad_nbc /= (5*10)\n",
    "tasafp_nbc /= (5*10)\n",
    "print('Precisión:', precision_nbc)\n",
    "print('Exhaustividad:', exhaustividad_nbc)\n",
    "print('Tasa de falsos positivos:', tasafp_nbc)"
   ]
  },
  {
   "cell_type": "markdown",
   "id": "ca04697f",
   "metadata": {},
   "source": [
    "## Regresión logística"
   ]
  },
  {
   "cell_type": "code",
   "execution_count": 5,
   "id": "92085b4b",
   "metadata": {},
   "outputs": [
    {
     "name": "stdout",
     "output_type": "stream",
     "text": [
      "Precisión: 0.9474845029141679\n",
      "Exhaustividad: 0.9475636766334437\n",
      "Tasa de falsos positivos: 0.027412507171543313\n"
     ]
    }
   ],
   "source": [
    "rlog = LogisticRegression()\n",
    "precision_rlog = 0\n",
    "exhaustividad_rlog = 0\n",
    "tasafp_rlog = 0\n",
    "for train_index, test_index in rskf.split(X, y):\n",
    "    X_train = X[train_index]\n",
    "    y_train = y[train_index]\n",
    "    X_test = X[test_index]\n",
    "    y_test = y[test_index]\n",
    "    rlog.fit(X_train, y_train)\n",
    "    vp_rlog, vn_rlog, fp_rlog, fn_rlog = evaluacion(rlog, X_test, y_test)\n",
    "    precision_rlog += vp_rlog / (vp_rlog + fp_rlog)\n",
    "    exhaustividad_rlog += vp_rlog / (fn_rlog + vp_rlog)\n",
    "    tasafp_rlog += fp_rlog / (vn_rlog + fp_rlog)\n",
    "\n",
    "precision_rlog /= (5*10)\n",
    "exhaustividad_rlog /= (5*10)\n",
    "tasafp_rlog /= (5*10)\n",
    "print('Precisión:', precision_rlog)\n",
    "print('Exhaustividad:', exhaustividad_rlog)\n",
    "print('Tasa de falsos positivos:', tasafp_rlog)"
   ]
  },
  {
   "cell_type": "markdown",
   "id": "bf1e5a13",
   "metadata": {},
   "source": [
    "Ahora se usa el modelo de regresión logística para evaluarlo en el conjunto de prueba."
   ]
  },
  {
   "cell_type": "code",
   "execution_count": 6,
   "id": "dfd0bce8",
   "metadata": {},
   "outputs": [
    {
     "name": "stdout",
     "output_type": "stream",
     "text": [
      "Precisión: 1.0\n",
      "Exhaustividad: 0.896551724137931\n",
      "Tasa de falsos positivos: 0.0\n"
     ]
    }
   ],
   "source": [
    "vp_rlog2, vn_rlog2, fp_rlog2, fn_rlog2 = evaluacion(rlog, X_pru, y_pru)\n",
    "precision_rlog2 = vp_rlog2 / (vp_rlog2 + fp_rlog2)\n",
    "exhaustividad_rlog2 = vp_rlog2 / (fn_rlog2 + vp_rlog2)\n",
    "tasafp_rlog2 = fp_rlog2 / (vn_rlog2 + fp_rlog2)\n",
    "print('Precisión:', precision_rlog2)\n",
    "print('Exhaustividad:', exhaustividad_rlog2)\n",
    "print('Tasa de falsos positivos:', tasafp_rlog2)"
   ]
  },
  {
   "cell_type": "code",
   "execution_count": null,
   "id": "090147c0",
   "metadata": {},
   "outputs": [],
   "source": []
  }
 ],
 "metadata": {
  "kernelspec": {
   "display_name": "Python 3 (ipykernel)",
   "language": "python",
   "name": "python3"
  },
  "language_info": {
   "codemirror_mode": {
    "name": "ipython",
    "version": 3
   },
   "file_extension": ".py",
   "mimetype": "text/x-python",
   "name": "python",
   "nbconvert_exporter": "python",
   "pygments_lexer": "ipython3",
   "version": "3.10.6"
  }
 },
 "nbformat": 4,
 "nbformat_minor": 5
}
