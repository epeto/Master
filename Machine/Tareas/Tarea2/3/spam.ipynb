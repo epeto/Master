{
 "cells": [
  {
   "cell_type": "code",
   "execution_count": 1,
   "id": "b70720ae",
   "metadata": {},
   "outputs": [],
   "source": [
    "import numpy as np\n",
    "import math\n",
    "import pandas as pd\n",
    "from sklearn.naive_bayes import MultinomialNB\n",
    "from sklearn.model_selection import train_test_split\n",
    "from sklearn.model_selection import RepeatedStratifiedKFold\n",
    "from sklearn.linear_model import LogisticRegression"
   ]
  },
  {
   "cell_type": "markdown",
   "id": "1323c460",
   "metadata": {},
   "source": [
    "# Spam"
   ]
  },
  {
   "cell_type": "markdown",
   "id": "b28a4e03",
   "metadata": {},
   "source": [
    "Se usarán diferentes clasificadores para clasificar spam."
   ]
  },
  {
   "cell_type": "code",
   "execution_count": 2,
   "id": "83450bd1",
   "metadata": {},
   "outputs": [],
   "source": [
    "## Calcula los verdaderos positivos, verdaderos negativos, falsos positivos y falsos negativos\n",
    "# de un clasificador, dado un conjunto de prueba.\n",
    "def evaluacion(clasificador, X_test, y_test):\n",
    "    vp = 0\n",
    "    vn = 0\n",
    "    fp = 0\n",
    "    fn = 0\n",
    "    prediccion = clasificador.predict(X_test)\n",
    "    for i in range(y_test.shape[0]):\n",
    "        if y_test[i] == 1 and prediccion[i] == 1:\n",
    "            vp += 1\n",
    "        elif y_test[i] == 0 and prediccion[i] == 0:\n",
    "            vn += 1\n",
    "        elif y_test[i] == 1 and prediccion[i] == 0:\n",
    "            fn += 1\n",
    "        else: # y_test[i] == 0 and prediccion[i] == 1\n",
    "            fp += 1\n",
    "    return (vp, vn, fp, fn)"
   ]
  },
  {
   "cell_type": "markdown",
   "id": "54e4d53c",
   "metadata": {},
   "source": [
    "## Multinomial Naive Bayes"
   ]
  },
  {
   "cell_type": "markdown",
   "id": "0006514d",
   "metadata": {},
   "source": [
    "Lectura de datos y separación entre dos conjuntos. El primer conjunto se usará para entrenamiento y validación, mientras que el segundo será el de prueba."
   ]
  },
  {
   "cell_type": "code",
   "execution_count": 3,
   "id": "339ab5c6",
   "metadata": {},
   "outputs": [],
   "source": [
    "datacsv = pd.read_csv('spam.csv', sep=' ')\n",
    "datanp = datacsv.to_numpy()\n",
    "Xinput = datanp[:, :-1]\n",
    "yinput = datanp[:, -1]\n",
    "X, X_pru, y, y_pru = train_test_split(Xinput, yinput, test_size=0.1, random_state=0)"
   ]
  },
  {
   "cell_type": "markdown",
   "id": "df290671",
   "metadata": {},
   "source": [
    "Creación del objeto y pruebas."
   ]
  },
  {
   "cell_type": "code",
   "execution_count": 4,
   "id": "8ce044a0",
   "metadata": {},
   "outputs": [
    {
     "name": "stdout",
     "output_type": "stream",
     "text": [
      "Precisión: 0.8903776102261868\n",
      "Exhaustividad: 0.9432226322263226\n",
      "Tasa de falsos positivos: 0.04766831705863475\n"
     ]
    }
   ],
   "source": [
    "nbc = MultinomialNB()\n",
    "rskf = RepeatedStratifiedKFold(n_splits=5, n_repeats=10)\n",
    "precision_nbc = 0\n",
    "exhaustividad_nbc = 0\n",
    "tasafp_nbc = 0\n",
    "for train_index, test_index in rskf.split(X, y):\n",
    "    X_train = X[train_index]\n",
    "    y_train = y[train_index]\n",
    "    X_test = X[test_index]\n",
    "    y_test = y[test_index]\n",
    "    nbc.fit(X_train, y_train)\n",
    "    vp_nbc, vn_nbc, fp_nbc, fn_nbc = evaluacion(nbc, X_test, y_test)\n",
    "    precision_nbc += vp_nbc / (vp_nbc + fp_nbc)\n",
    "    exhaustividad_nbc += vp_nbc / (fn_nbc + vp_nbc)\n",
    "    tasafp_nbc += fp_nbc / (vn_nbc + fp_nbc)\n",
    "\n",
    "precision_nbc /= (5*10)\n",
    "exhaustividad_nbc /= (5*10)\n",
    "tasafp_nbc /= (5*10)\n",
    "print('Precisión:', precision_nbc)\n",
    "print('Exhaustividad:', exhaustividad_nbc)\n",
    "print('Tasa de falsos positivos:', tasafp_nbc)"
   ]
  },
  {
   "cell_type": "markdown",
   "id": "cf6122a5",
   "metadata": {},
   "source": [
    "## Regresión logística"
   ]
  },
  {
   "cell_type": "markdown",
   "id": "98dfff84",
   "metadata": {},
   "source": [
    "Se entrena y se evalúa el modelo de regresión logística.\n",
    "\n",
    "<b>Nota:</b> tuve que usar la regresión de sklearn porque en mi clase me enviaba un <i>OverflowError: math range error</i>."
   ]
  },
  {
   "cell_type": "code",
   "execution_count": 5,
   "id": "81250c97",
   "metadata": {},
   "outputs": [
    {
     "name": "stdout",
     "output_type": "stream",
     "text": [
      "Precisión: 0.9316465106282255\n",
      "Exhaustividad: 0.9740959409594094\n",
      "Tasa de falsos positivos: 0.02937651858983175\n"
     ]
    }
   ],
   "source": [
    "rlog = LogisticRegression()\n",
    "precision_rlog = 0\n",
    "exhaustividad_rlog = 0\n",
    "tasafp_rlog = 0\n",
    "for train_index, test_index in rskf.split(X, y):\n",
    "    X_train = X[train_index]\n",
    "    y_train = y[train_index]\n",
    "    X_test = X[test_index]\n",
    "    y_test = y[test_index]\n",
    "    rlog.fit(X_train, y_train)\n",
    "    vp_rlog, vn_rlog, fp_rlog, fn_rlog = evaluacion(rlog, X_test, y_test)\n",
    "    precision_rlog += vp_rlog / (vp_rlog + fp_rlog)\n",
    "    exhaustividad_rlog += vp_rlog / (fn_rlog + vp_rlog)\n",
    "    tasafp_rlog += fp_rlog / (vn_rlog + fp_rlog)\n",
    "\n",
    "precision_rlog /= (5*10)\n",
    "exhaustividad_rlog /= (5*10)\n",
    "tasafp_rlog /= (5*10)\n",
    "print('Precisión:', precision_rlog)\n",
    "print('Exhaustividad:', exhaustividad_rlog)\n",
    "print('Tasa de falsos positivos:', tasafp_rlog)"
   ]
  },
  {
   "cell_type": "markdown",
   "id": "f560d7d0",
   "metadata": {},
   "source": [
    "Ahora se evalúa el modelo de regresión logística en el conjunto de prueba porque fue el que tuvo una precisión mayor."
   ]
  },
  {
   "cell_type": "code",
   "execution_count": 6,
   "id": "c6e8f2cd",
   "metadata": {},
   "outputs": [
    {
     "name": "stdout",
     "output_type": "stream",
     "text": [
      "Precisión: 0.96\n",
      "Exhaustividad: 0.972972972972973\n",
      "Tasa de falsos positivos: 0.016216216216216217\n"
     ]
    }
   ],
   "source": [
    "vp_rlog2, vn_rlog2, fp_rlog2, fn_rlog2 = evaluacion(rlog, X_pru, y_pru)\n",
    "precision_rlog2 = vp_rlog2 / (vp_rlog2 + fp_rlog2)\n",
    "exhaustividad_rlog2 = vp_rlog2 / (fn_rlog2 + vp_rlog2)\n",
    "tasafp_rlog2 = fp_rlog2 / (vn_rlog2 + fp_rlog2)\n",
    "print('Precisión:', precision_rlog2)\n",
    "print('Exhaustividad:', exhaustividad_rlog2)\n",
    "print('Tasa de falsos positivos:', tasafp_rlog2)"
   ]
  },
  {
   "cell_type": "code",
   "execution_count": null,
   "id": "bc988967",
   "metadata": {},
   "outputs": [],
   "source": []
  }
 ],
 "metadata": {
  "kernelspec": {
   "display_name": "Python 3 (ipykernel)",
   "language": "python",
   "name": "python3"
  },
  "language_info": {
   "codemirror_mode": {
    "name": "ipython",
    "version": 3
   },
   "file_extension": ".py",
   "mimetype": "text/x-python",
   "name": "python",
   "nbconvert_exporter": "python",
   "pygments_lexer": "ipython3",
   "version": "3.10.6"
  }
 },
 "nbformat": 4,
 "nbformat_minor": 5
}
