{
 "cells": [
  {
   "cell_type": "code",
   "execution_count": 4,
   "id": "b70720ae",
   "metadata": {},
   "outputs": [],
   "source": [
    "import numpy as np\n",
    "import pandas as pd\n",
    "from sklearn.naive_bayes import MultinomialNB\n",
    "from sklearn.model_selection import train_test_split\n",
    "from sklearn.model_selection import RepeatedStratifiedKFold"
   ]
  },
  {
   "cell_type": "markdown",
   "id": "1323c460",
   "metadata": {},
   "source": [
    "# Spam"
   ]
  },
  {
   "cell_type": "markdown",
   "id": "b28a4e03",
   "metadata": {},
   "source": [
    "Se usarán diferentes clasificadores para clasificar spam."
   ]
  },
  {
   "cell_type": "markdown",
   "id": "54e4d53c",
   "metadata": {},
   "source": [
    "## Multinomial Naive Bayes"
   ]
  },
  {
   "cell_type": "markdown",
   "id": "0006514d",
   "metadata": {},
   "source": [
    "Lectura de datos y separación entre dos conjuntos. El primer conjunto se usará para entrenamiento y validación, mientras que el segundo será el de prueba."
   ]
  },
  {
   "cell_type": "code",
   "execution_count": 5,
   "id": "339ab5c6",
   "metadata": {},
   "outputs": [],
   "source": [
    "datacsv = pd.read_csv('spam.csv', sep=' ')\n",
    "datanp = datacsv.to_numpy()\n",
    "Xinput = datanp[:, :-1]\n",
    "yinput = datanp[:, -1]\n",
    "X, X_pru, y, y_pru = train_test_split(Xinput, yinput, test_size=0.1, random_state=0)"
   ]
  },
  {
   "cell_type": "markdown",
   "id": "df290671",
   "metadata": {},
   "source": [
    "Creación del objeto y pruebas."
   ]
  },
  {
   "cell_type": "code",
   "execution_count": null,
   "id": "8ce044a0",
   "metadata": {},
   "outputs": [],
   "source": [
    "nbc = MultinomialNB()\n",
    "rskf = RepeatedStratifiedKFold(n_splits=5, n_repeats=10)\n",
    "for train_index, test_index in rskf.split(X, y):\n",
    "    X_train = X[train_index]\n",
    "    y_train = y[train_index]\n",
    "    X_test = X[test_index]\n",
    "    y_test = y[test_index]"
   ]
  }
 ],
 "metadata": {
  "kernelspec": {
   "display_name": "Python 3 (ipykernel)",
   "language": "python",
   "name": "python3"
  },
  "language_info": {
   "codemirror_mode": {
    "name": "ipython",
    "version": 3
   },
   "file_extension": ".py",
   "mimetype": "text/x-python",
   "name": "python",
   "nbconvert_exporter": "python",
   "pygments_lexer": "ipython3",
   "version": "3.10.6"
  }
 },
 "nbformat": 4,
 "nbformat_minor": 5
}
