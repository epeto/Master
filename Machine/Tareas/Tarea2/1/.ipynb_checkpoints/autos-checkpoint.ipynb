{
 "cells": [
  {
   "cell_type": "markdown",
   "id": "a010888a",
   "metadata": {},
   "source": [
    "# Predicción de precios de automóviles"
   ]
  },
  {
   "cell_type": "code",
   "execution_count": 2,
   "id": "d8b6b503",
   "metadata": {},
   "outputs": [],
   "source": [
    "import pandas as pd\n",
    "import numpy as np"
   ]
  },
  {
   "cell_type": "markdown",
   "id": "c2e59627",
   "metadata": {},
   "source": [
    "## Regresión lineal y polinomial"
   ]
  },
  {
   "cell_type": "markdown",
   "id": "e28f4b63",
   "metadata": {},
   "source": [
    "Primero se creará la clase de regresión lineal."
   ]
  },
  {
   "cell_type": "code",
   "execution_count": 3,
   "id": "2bc0b92c",
   "metadata": {},
   "outputs": [],
   "source": [
    "class RegresionLineal:\n",
    "    def __init__(self):\n",
    "        self.theta = np.empty((1)) # vector de thetas\n",
    "    \n",
    "    ## Recibe la matriz de X's y el vector de y's para entrenar el modelo\n",
    "    # Presupone que la primera columna de las x's tiene puros 1's.\n",
    "    def entrena(self, X, y):\n",
    "        self.theta = np.linalg.inv(X.T @ X) @ (X.T @ y)\n",
    "    \n",
    "    ## Recibe el vector x y predice el valor de y, dado que ya se tienen las thetas.\n",
    "    def predice(self, x):\n",
    "        return np.dot(x, theta) # producto punto"
   ]
  },
  {
   "cell_type": "markdown",
   "id": "349ec95c",
   "metadata": {},
   "source": [
    "Ahora se creará la clase de regresión polinomial."
   ]
  },
  {
   "cell_type": "code",
   "execution_count": 6,
   "id": "c4c3710b",
   "metadata": {},
   "outputs": [],
   "source": [
    "class RegresionPolinomial:\n",
    "    def __init__(self, deg):\n",
    "        self.theta = np.empty((1)) # vector de thetas\n",
    "        self.grado = deg\n",
    "        self.rl = RegresionLineal()\n",
    "    \n",
    "    ## Realiza la expansión polinomial de un vector x.\n",
    "    def expande(self, x):\n",
    "        salida1 = []\n",
    "        for variable in x:\n",
    "            vector = []\n",
    "            for i in range(1, self.grado+1):\n",
    "                vector.append(variable ** i)\n",
    "            salida1.append(vector)\n",
    "        salida2 = [1] # El vector x siempre tiene un 1 al inicio\n",
    "        for fila in salida1:\n",
    "            salida2.extend(fila)\n",
    "        return salida2\n",
    "    \n",
    "    ## Entrena el modelo, dadas las x's y las y's.\n",
    "    def entrena(self, X, y):\n",
    "        X2 = [] # Matriz que contiene la expansión polinomial de cada x en X\n",
    "        for x in X:\n",
    "            X2.append(expande(self, x))\n",
    "        self.theta = rl.entrena(X2, y)\n",
    "        \n",
    "    ## Predice el valor de y dado x.\n",
    "    def predice(self, x):\n",
    "        x2 = expande(x)\n",
    "        return rl.predice(x2)\n",
    "    \n",
    "    ## Predice los valores de y's dadas las x's\n",
    "    def predice2(self, X):\n",
    "        y = np.zeros(X.shape[0])\n",
    "        for fila in range(X.shape[0]):\n",
    "            y[fila] = predice(self, X[fila])\n",
    "        return y"
   ]
  },
  {
   "cell_type": "markdown",
   "id": "6b36d833",
   "metadata": {},
   "source": [
    "Ahora se define la función de error cuadrático medio."
   ]
  },
  {
   "cell_type": "code",
   "execution_count": 7,
   "id": "f8ca54c5",
   "metadata": {},
   "outputs": [],
   "source": [
    "def error_cm(y1, y2):\n",
    "    suma = ((y1 - y2)**2).sum()\n",
    "    return suma/y1.shape[0]"
   ]
  },
  {
   "cell_type": "markdown",
   "id": "6ce29f17",
   "metadata": {},
   "source": [
    "## Validación cruzada"
   ]
  },
  {
   "cell_type": "markdown",
   "id": "8748f354",
   "metadata": {},
   "source": [
    "Se definirá una función que calcula el error cuadrático medio en validación cruzada con $k$ particiones y $r$ repeticiones. Recibe un modelo de regresión polinomial cuyo grado ya está definido. Recibe los valores de $x$ y $y$."
   ]
  },
  {
   "cell_type": "code",
   "execution_count": 8,
   "id": "1913a6a2",
   "metadata": {},
   "outputs": [],
   "source": [
    "## Parte los datasets X y y, donde se tendrán k particiones de validación.\n",
    "def parte(X, y, k, indice):\n",
    "    tam_val = X.shape[0] // k # Tamaño de la partición\n",
    "    X_ent = []\n",
    "    X_val = []\n",
    "    y_ent = []\n",
    "    y_val = []\n",
    "    for i in range(X.shape):\n",
    "        if tam_val*indice <= i and i < tam_val*(indice+1):\n",
    "            X_val.append(X[i])\n",
    "            y_val.append(y[i])\n",
    "        else:\n",
    "            X_ent.append(X[i])\n",
    "            y_ent.append(y[i])\n",
    "    return (np.array(X_ent), np.array(X_val), np.array(y_ent), np.array(y_val))"
   ]
  },
  {
   "cell_type": "code",
   "execution_count": 9,
   "id": "4cdf06ce",
   "metadata": {},
   "outputs": [],
   "source": [
    "## Realiza validación cruzada con k particiones y r repeticiones.\n",
    "# @param k particiones\n",
    "# @param r repeticiones\n",
    "# @param X matriz con valores de x\n",
    "# @param y vector con valores de y\n",
    "# @param rp modelo de regresión polinomial\n",
    "# @return errores cuadráticos medios, para entrenamiento y validación\n",
    "def validacion_cruzada_kr(k, r, X, y, rp):\n",
    "    suma_errores_ent = 0\n",
    "    suma_errores_val = 0\n",
    "    for i in range(r):\n",
    "        perms = np.random.permutation(X.shape[0])\n",
    "        Xperm = X[perms]\n",
    "        yperm = y[perms]\n",
    "        for j in range(k):\n",
    "            X_ent, X_val, y_ent, y_val = parte(Xperm, yperm, k, j)\n",
    "            rp.entrena(X_ent, y_ent)\n",
    "            y_pred_ent = rp.predice2(X_ent)\n",
    "            y_pred_val = rp.predice2(X_val)\n",
    "            suma_errores_ent += error_cm(y_ent, y_pred_ent)\n",
    "            suma_errores_val += error_cm(y_val, y_pred_val)\n",
    "    # Al final se saca el promedio de cada uno\n",
    "    pecm_ent = suma_errores_ent / (r*k)\n",
    "    pecm_val = suma_errores_val / (r*k)\n",
    "    return (pecm_ent, pecm_val)"
   ]
  },
  {
   "cell_type": "markdown",
   "id": "0d40a9a4",
   "metadata": {},
   "source": [
    "Para probar diferentes modelos se realizará regresión polinomial con diferentes grados de polinomio. (Inciso a, problema 1)."
   ]
  },
  {
   "cell_type": "code",
   "execution_count": null,
   "id": "5bc5988f",
   "metadata": {},
   "outputs": [],
   "source": []
  }
 ],
 "metadata": {
  "kernelspec": {
   "display_name": "Python 3 (ipykernel)",
   "language": "python",
   "name": "python3"
  },
  "language_info": {
   "codemirror_mode": {
    "name": "ipython",
    "version": 3
   },
   "file_extension": ".py",
   "mimetype": "text/x-python",
   "name": "python",
   "nbconvert_exporter": "python",
   "pygments_lexer": "ipython3",
   "version": "3.10.6"
  }
 },
 "nbformat": 4,
 "nbformat_minor": 5
}
