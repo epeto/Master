{
 "cells": [
  {
   "cell_type": "markdown",
   "id": "c5b6fe8f",
   "metadata": {},
   "source": [
    "# Detección de spam"
   ]
  },
  {
   "cell_type": "code",
   "execution_count": 1,
   "id": "b0b6c1b9",
   "metadata": {},
   "outputs": [],
   "source": [
    "import numpy\n",
    "import pandas\n",
    "import random"
   ]
  },
  {
   "cell_type": "markdown",
   "id": "3b654911",
   "metadata": {},
   "source": [
    "Primero se encuentra el porcentaje de correos que son spam y los que no lo son."
   ]
  },
  {
   "cell_type": "code",
   "execution_count": 2,
   "id": "17ec5186",
   "metadata": {},
   "outputs": [
    {
     "name": "stdout",
     "output_type": "stream",
     "text": [
      "Correos spam: 28.98859021465867%\n",
      "Correos no spam: 71.01140978534133%\n"
     ]
    }
   ],
   "source": [
    "datacsv = pandas.read_csv('spam.csv', sep=' ')\n",
    "datanp = datacsv.to_numpy()\n",
    "num_data = datanp.shape[0] # número total de datos (de filas)\n",
    "num_vars = datanp.shape[1]-1 # número total de variables (columnas-1)\n",
    "num_spam = 0\n",
    "for x in datanp:\n",
    "    if x[num_vars] == 1:\n",
    "        num_spam += 1\n",
    "print(\"Correos spam:\", str(100*(num_spam/num_data))+'%')\n",
    "print(\"Correos no spam:\", str(100*(num_data-num_spam)/num_data)+'%')"
   ]
  },
  {
   "cell_type": "markdown",
   "id": "6817df9d",
   "metadata": {},
   "source": [
    "Ahora se va a partir el conjunto de datos en 3:\n",
    "- El de entrenamiento, que tendrá el 60% de los datos.\n",
    "- El de validación, que tendrá el 20%.\n",
    "- El de prueba, que tendrá el otro 20%."
   ]
  },
  {
   "cell_type": "code",
   "execution_count": 3,
   "id": "364a7601",
   "metadata": {},
   "outputs": [],
   "source": [
    "# Parte al conjunto de datos en 3, de forma aleatoria.\n",
    "# Cada parámetro (entrenamiento, validación y prueba) es una fracción del tamaño del\n",
    "# subconjunto de datos entre el tamaño del conjunto total.\n",
    "def particion(datos, entrenamiento, validacion, prueba):\n",
    "    n = datos.shape[0]\n",
    "    indices_total = [i for i in range(n)]\n",
    "    indices_ent = []\n",
    "    random.seed(0) #Se usa 0 como semilla\n",
    "    while (len(indices_ent)/n) < entrenamiento:\n",
    "        indice_rand = random.randint(0, len(indices_total)-1)\n",
    "        indices_ent.append(indices_total[indice_rand])\n",
    "        del indices_total[indice_rand]\n",
    "    indices_val = []\n",
    "    while (len(indices_val)/n) < validacion:\n",
    "        indice_rand = random.randint(0, len(indices_total)-1)\n",
    "        indices_val.append(indices_total[indice_rand])\n",
    "        del indices_total[indice_rand]\n",
    "    #En este punto, indices_total tendrá los índices para validación\n",
    "    datos_ent = []\n",
    "    datos_val = []\n",
    "    datos_pru = []\n",
    "    for i in indices_ent:\n",
    "        datos_ent.append(datos[i])\n",
    "    for i in indices_val:\n",
    "        datos_val.append(datos[i])\n",
    "    for i in indices_total:\n",
    "        datos_pru.append(datos[i])\n",
    "    return (numpy.array(datos_ent), numpy.array(datos_val), numpy.array(datos_pru))\n",
    "\n",
    "data_ent, data_val, data_pru = particion(datanp, 0.6, 0.2, 0.2)"
   ]
  },
  {
   "cell_type": "markdown",
   "id": "91eca78c",
   "metadata": {},
   "source": [
    "El primer clasificador utilizará distribución de Bernoulli, donde un número mayor a 0 indica la presencia de cierta palabra y 0 indica ausencia de esa palabra."
   ]
  },
  {
   "cell_type": "code",
   "execution_count": 4,
   "id": "fc2563d6",
   "metadata": {},
   "outputs": [],
   "source": [
    "# Distribución de bernoulli\n",
    "def bernoulli(x, q):\n",
    "    return q**x * (1.0 - q)**(1.0 - x)"
   ]
  },
  {
   "cell_type": "code",
   "execution_count": 5,
   "id": "361e1f41",
   "metadata": {},
   "outputs": [],
   "source": [
    "class BernoulliNBLog:\n",
    "    ## Estima parámetros por máxima verosimilitud\n",
    "    def fit(self, X, y):\n",
    "        self.clases = numpy.unique(y)\n",
    "        self.n_clases = self.clases.size\n",
    "        self.n_atr = X.shape[-1]\n",
    "        n = X.shape[0]\n",
    "        self.qa = numpy.zeros((self.n_clases, self.n_atr))\n",
    "        self.qc = numpy.zeros((self.n_clases))\n",
    "        for i,c in enumerate(self.clases):\n",
    "            Xc = X[numpy.where(y == c)]\n",
    "            nc = Xc.shape[0]\n",
    "            cuentas = numpy.count_nonzero(Xc, axis = 0)\n",
    "            self.qa[i, :] = cuentas / nc\n",
    "            self.qc[i] = nc / n\n",
    "        # Para evitar logarítmos de zero en cálculo\n",
    "        # de a posteriori\n",
    "        self.qa[self.qa == 0] = numpy.nextafter(0, 1)\n",
    "        self.qa[self.qa == 1] = numpy.nextafter(1, 0)\n",
    "    \n",
    "    ## Calcula a posteriori (proporcional) de un conjunto de datos\n",
    "    def predict_proba(self, X):\n",
    "        prop = numpy.zeros((X.shape[0], self.n_clases))\n",
    "        for i in range(self.n_clases):\n",
    "            a0log = (1 - X) @ numpy.log(1 - self.qa[i, :])\n",
    "            a1log = X @ numpy.log(self.qa[i, :])\n",
    "            prop[:, i] = a0log + a1log + numpy.log(self.qc[i])\n",
    "        return prop\n",
    "\n",
    "    ## Predice clase de conjunto de datos\n",
    "    def predict(self, X):\n",
    "        return numpy.argmax(self.predict_proba(X), axis=1)"
   ]
  },
  {
   "cell_type": "code",
   "execution_count": 6,
   "id": "cbc14e39",
   "metadata": {},
   "outputs": [],
   "source": [
    "## Transforma una matriz de números a otra que tenga atributos Bernoulli\n",
    "# coloca 1 si encuentra un número diferente de 0\n",
    "# coloca 0 en otro caso\n",
    "def transforma_bernoulli(matriz):\n",
    "    salida = numpy.zeros(matriz.shape)\n",
    "    for i in range(matriz.shape[0]):\n",
    "        for j in range(matriz.shape[1]):\n",
    "            if matriz[i][j] > 0:\n",
    "                salida[i][j] = 1\n",
    "    return salida"
   ]
  },
  {
   "cell_type": "markdown",
   "id": "1e00b99e",
   "metadata": {},
   "source": [
    "Se separan los datos entre $x$ (que indican la presencia de palabras) y $y$ (que indican si es spam). También se transforma la matriz de $x$'s en un tipo Bernoulli."
   ]
  },
  {
   "cell_type": "code",
   "execution_count": 7,
   "id": "90827c62",
   "metadata": {},
   "outputs": [],
   "source": [
    "X_ent = data_ent[:, :-1]\n",
    "y_ent = data_ent[:, -1]\n",
    "xbern_ent = transforma_bernoulli(X_ent)"
   ]
  },
  {
   "cell_type": "markdown",
   "id": "3945a206",
   "metadata": {},
   "source": [
    "Ahora sí, se realiza el entrenamiento del modelo con distribución Bernoulli."
   ]
  },
  {
   "cell_type": "code",
   "execution_count": 8,
   "id": "78e485f6",
   "metadata": {},
   "outputs": [],
   "source": [
    "bnbl = BernoulliNBLog()\n",
    "bnbl.fit(xbern_ent, y_ent)"
   ]
  },
  {
   "cell_type": "markdown",
   "id": "1cef74a1",
   "metadata": {},
   "source": [
    "La otra distribución que se usará será la categórica."
   ]
  },
  {
   "cell_type": "code",
   "execution_count": 9,
   "id": "38a3e452",
   "metadata": {},
   "outputs": [],
   "source": [
    "# Clasificador bayesiano ingenuo binario con características categóricas\n",
    "class CategoricalNB:\n",
    "    # Calcula probabilidad de la clase\n",
    "    def prob_clase(self):\n",
    "        return self.qc\n",
    "    \n",
    "    # Calcula probabilidad de atributo dada la clase\n",
    "    def prob_cond_clase(self, X):\n",
    "        v = numpy.zeros((X.shape[0], self.clases.size))\n",
    "        a = numpy.arange(X.shape[1])\n",
    "        for k in range(X.shape[0]):\n",
    "            for i in range(self.clases.size):\n",
    "                v[k, i] = self.qa[i, a, X[k, a]].sum()\n",
    "        return v\n",
    "\n",
    "    # Entrena clasificador bayesiano ingenuo\n",
    "    def fit(self, X, y, alfa = 2):\n",
    "        # Calcula parámetros de distribución a priori (categórica)\n",
    "        n = X.shape[0]\n",
    "        self.clases = numpy.unique(y)\n",
    "        self.n_clases = self.clases.size\n",
    "        self.qc = numpy.zeros(self.clases.size)\n",
    "        for i,c in enumerate(self.clases):\n",
    "            # Misma alfa para todas las categorías\n",
    "            self.qc[i] = (numpy.sum(y == c) + alfa - 1) / (n + alfa * self.n_clases - self.n_clases)\n",
    "        # Escala logarítmica para parámetros de a priori\n",
    "        self.qc[self.qc == 0] = numpy.nextafter(0, 1)\n",
    "        self.qc[self.qc == 1] = numpy.nextafter(1, 0)\n",
    "        self.qc = numpy.log(self.qc)\n",
    "        # Calcula parámetros de verosimilitud (categórica)\n",
    "        self.n_atrib = X.shape[1]\n",
    "        # Presupone mismas categorías en los dos atributos\n",
    "        self.n_cat = int(numpy.max(X)) + 1\n",
    "        self.qa = numpy.zeros((self.n_clases, self.n_atrib, self.n_cat))\n",
    "        # Estima parámetros para cada clase, atributo y categoría (máximo a posteriori)\n",
    "        for c in self.clases:\n",
    "            for i in range(self.n_atrib):\n",
    "                X_ci = X[numpy.where(y == c), i]\n",
    "                for j in range(self.n_cat): \n",
    "                    # Misma alfa para todas las categorías\n",
    "                    self.qa[c, i, j] = (numpy.sum(X_ci == j) + alfa - 1) / (X_ci.shape[0] + alfa * self.n_cat - self.n_cat)\n",
    "        # Usa escala logarítmica para parámetros de verosimilitud\n",
    "        self.qa[self.qa == 0] = numpy.nextafter(0, 1)\n",
    "        self.qa[self.qa == 1] = numpy.nextafter(1, 0)\n",
    "        self.qa = numpy.log(self.qa)\n",
    "    \n",
    "    # Predice clases dada un conjunto de datos\n",
    "    def predict(self, X):\n",
    "        aposteriori = self.prob_clase() + self.prob_cond_clase(X)\n",
    "        return numpy.argmax(aposteriori, axis = 1)"
   ]
  },
  {
   "cell_type": "markdown",
   "id": "8ab78137",
   "metadata": {},
   "source": [
    "Ahora se entrena el clasificador"
   ]
  },
  {
   "cell_type": "code",
   "execution_count": 10,
   "id": "afd13d48",
   "metadata": {},
   "outputs": [],
   "source": [
    "cnb = CategoricalNB()\n",
    "cnb.fit(X_ent, y_ent)"
   ]
  },
  {
   "cell_type": "markdown",
   "id": "909405a7",
   "metadata": {},
   "source": [
    "<h3>Predicciones<h3>"
   ]
  },
  {
   "cell_type": "markdown",
   "id": "9c78248e",
   "metadata": {},
   "source": [
    "Ya se tienen los dos modelos entrenados. Ahora se harán las predicciones, primero para el de Bernoulli y luego para la categórica."
   ]
  },
  {
   "cell_type": "code",
   "execution_count": 11,
   "id": "87cb34c5",
   "metadata": {},
   "outputs": [
    {
     "name": "stdout",
     "output_type": "stream",
     "text": [
      "Predicción con Bernoulli\n",
      "Exactitud con datos de entrenamiento: 94.65033838221076%\n",
      "Exactitud con datos de validación: 93.6231884057971%\n"
     ]
    }
   ],
   "source": [
    "print(\"Predicción con Bernoulli\")\n",
    "X_val = data_val[:, :-1]\n",
    "y_val = data_val[:, -1]\n",
    "predict_ent = bnbl.predict(xbern_ent)\n",
    "aciertos_ent = 0\n",
    "for i in range(predict_ent.shape[0]):\n",
    "    if predict_ent[i] == y_ent[i]:\n",
    "        aciertos_ent += 1\n",
    "fae_bern = aciertos_ent/y_ent.shape[0]\n",
    "print(\"Exactitud con datos de entrenamiento:\", str(fae_bern*100)+'%')\n",
    "\n",
    "xbern_val = transforma_bernoulli(X_val)\n",
    "predict_val = bnbl.predict(xbern_val)\n",
    "aciertos_val = 0\n",
    "for i in range(predict_val.shape[0]):\n",
    "    if predict_val[i] == y_val[i]:\n",
    "        aciertos_val += 1\n",
    "fav_bern = aciertos_val/y_val.shape[0]\n",
    "print(\"Exactitud con datos de validación:\", str(fav_bern*100)+'%')"
   ]
  },
  {
   "cell_type": "code",
   "execution_count": 13,
   "id": "0fd5f479",
   "metadata": {},
   "outputs": [
    {
     "name": "stdout",
     "output_type": "stream",
     "text": [
      "Predicción con categórica\n",
      "Exactitud con datos de entrenamiento: 70.6413148565904%\n",
      "Exactitud con datos de validación: 72.17391304347827%\n"
     ]
    }
   ],
   "source": [
    "print(\"Predicción con categórica\")\n",
    "predict_ent = cnb.predict(X_ent)\n",
    "aciertos_ent = 0\n",
    "for i in range(predict_ent.shape[0]):\n",
    "    if predict_ent[i] == y_ent[i]:\n",
    "        aciertos_ent += 1\n",
    "fae_cat = aciertos_ent/y_ent.shape[0]\n",
    "print(\"Exactitud con datos de entrenamiento:\", str(fae_cat*100)+'%')\n",
    "\n",
    "predict_val = cnb.predict(X_val)\n",
    "aciertos_val = 0\n",
    "for i in range(predict_val.shape[0]):\n",
    "    if predict_val[i] == y_val[i]:\n",
    "        aciertos_val += 1\n",
    "fav_cat = aciertos_val/y_val.shape[0]\n",
    "print(\"Exactitud con datos de validación:\", str(fav_cat*100)+'%')"
   ]
  },
  {
   "cell_type": "markdown",
   "id": "c679eccd",
   "metadata": {},
   "source": [
    "La exactitud fue mayor cuando se consideraron los atributos con distribución Bernoulli; es decir, cuando se tomó en cuenta solamente la presencia o ausencia de cierta palabra en el texto y no se contó su frecuencia.\n",
    "\n",
    "Ahora se tomará el clasificador con distribución Bernoulli para hacer predicciones en el conjunto de datos de prueba."
   ]
  },
  {
   "cell_type": "markdown",
   "id": "10d5bb68",
   "metadata": {},
   "source": [
    "<h3>Conjunto de datos de prueba</h3>"
   ]
  },
  {
   "cell_type": "code",
   "execution_count": 16,
   "id": "9798bc88",
   "metadata": {},
   "outputs": [
    {
     "name": "stdout",
     "output_type": "stream",
     "text": [
      "Exactitud con datos de prueba: 92.15876089060987%\n"
     ]
    }
   ],
   "source": [
    "X_pru = data_pru[:, :-1]\n",
    "y_pru = data_pru[:, -1]\n",
    "xbern_pru = transforma_bernoulli(X_pru)\n",
    "predict_pru = bnbl.predict(xbern_pru)\n",
    "aciertos_pru = 0\n",
    "for i in range(predict_pru.shape[0]):\n",
    "    if predict_pru[i] == y_pru[i]:\n",
    "        aciertos_pru += 1\n",
    "fap_bern = aciertos_pru/y_pru.shape[0]\n",
    "print(\"Exactitud con datos de prueba:\", str(fap_bern*100)+'%')"
   ]
  },
  {
   "cell_type": "code",
   "execution_count": null,
   "id": "c2da30c8",
   "metadata": {},
   "outputs": [],
   "source": []
  }
 ],
 "metadata": {
  "kernelspec": {
   "display_name": "Python 3 (ipykernel)",
   "language": "python",
   "name": "python3"
  },
  "language_info": {
   "codemirror_mode": {
    "name": "ipython",
    "version": 3
   },
   "file_extension": ".py",
   "mimetype": "text/x-python",
   "name": "python",
   "nbconvert_exporter": "python",
   "pygments_lexer": "ipython3",
   "version": "3.10.6"
  }
 },
 "nbformat": 4,
 "nbformat_minor": 5
}
