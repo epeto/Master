{
 "cells": [
  {
   "cell_type": "markdown",
   "id": "2692deb6",
   "metadata": {},
   "source": [
    "# Detección de spam"
   ]
  },
  {
   "cell_type": "code",
   "execution_count": null,
   "id": "d4f3ab82",
   "metadata": {},
   "outputs": [],
   "source": []
  }
 ],
 "metadata": {
  "kernelspec": {
   "display_name": "Python 3 (ipykernel)",
   "language": "python",
   "name": "python3"
  },
  "language_info": {
   "codemirror_mode": {
    "name": "ipython",
    "version": 3
   },
   "file_extension": ".py",
   "mimetype": "text/x-python",
   "name": "python",
   "nbconvert_exporter": "python",
   "pygments_lexer": "ipython3",
   "version": "3.10.6"
  }
 },
 "nbformat": 4,
 "nbformat_minor": 5
}
