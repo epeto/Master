{
 "cells": [
  {
   "cell_type": "markdown",
   "metadata": {
    "id": "oNB4s3s2F9Yl"
   },
   "source": [
    "# Algoritmo DQN\n",
    "\n",
    "Se aplicará el algoritmo DQN al problema de *cartpole* (la versión de Mujoco)."
   ]
  },
  {
   "cell_type": "code",
   "execution_count": null,
   "metadata": {
    "colab": {
     "base_uri": "https://localhost:8080/"
    },
    "id": "zXe_Vq7YUsEf",
    "outputId": "57205e75-9b97-44a8-85bc-9e0a662b7a37"
   },
   "outputs": [
    {
     "name": "stdout",
     "output_type": "stream",
     "text": [
      "Collecting gymnasium[mujoco]\n",
      "  Downloading gymnasium-0.29.1-py3-none-any.whl (953 kB)\n",
      "\u001b[2K     \u001b[90m━━━━━━━━━━━━━━━━━━━━━━━━━━━━━━━━━━━━━━━━\u001b[0m \u001b[32m953.9/953.9 kB\u001b[0m \u001b[31m11.5 MB/s\u001b[0m eta \u001b[36m0:00:00\u001b[0m\n",
      "\u001b[?25hRequirement already satisfied: numpy>=1.21.0 in /usr/local/lib/python3.10/dist-packages (from gymnasium[mujoco]) (1.23.5)\n",
      "Requirement already satisfied: cloudpickle>=1.2.0 in /usr/local/lib/python3.10/dist-packages (from gymnasium[mujoco]) (2.2.1)\n",
      "Requirement already satisfied: typing-extensions>=4.3.0 in /usr/local/lib/python3.10/dist-packages (from gymnasium[mujoco]) (4.5.0)\n",
      "Collecting farama-notifications>=0.0.1 (from gymnasium[mujoco])\n",
      "  Downloading Farama_Notifications-0.0.4-py3-none-any.whl (2.5 kB)\n",
      "Collecting mujoco>=2.3.3 (from gymnasium[mujoco])\n",
      "  Downloading mujoco-3.0.1-cp310-cp310-manylinux_2_17_x86_64.manylinux2014_x86_64.whl (5.3 MB)\n",
      "\u001b[2K     \u001b[90m━━━━━━━━━━━━━━━━━━━━━━━━━━━━━━━━━━━━━━━━\u001b[0m \u001b[32m5.3/5.3 MB\u001b[0m \u001b[31m81.2 MB/s\u001b[0m eta \u001b[36m0:00:00\u001b[0m\n",
      "\u001b[?25hRequirement already satisfied: imageio>=2.14.1 in /usr/local/lib/python3.10/dist-packages (from gymnasium[mujoco]) (2.31.6)\n",
      "Requirement already satisfied: pillow<10.1.0,>=8.3.2 in /usr/local/lib/python3.10/dist-packages (from imageio>=2.14.1->gymnasium[mujoco]) (9.4.0)\n",
      "Requirement already satisfied: absl-py in /usr/local/lib/python3.10/dist-packages (from mujoco>=2.3.3->gymnasium[mujoco]) (1.4.0)\n",
      "Requirement already satisfied: etils[epath] in /usr/local/lib/python3.10/dist-packages (from mujoco>=2.3.3->gymnasium[mujoco]) (1.5.2)\n",
      "Collecting glfw (from mujoco>=2.3.3->gymnasium[mujoco])\n",
      "  Downloading glfw-2.6.3-py2.py27.py3.py30.py31.py32.py33.py34.py35.py36.py37.py38-none-manylinux2014_x86_64.whl (208 kB)\n",
      "\u001b[2K     \u001b[90m━━━━━━━━━━━━━━━━━━━━━━━━━━━━━━━━━━━━━━━━\u001b[0m \u001b[32m208.2/208.2 kB\u001b[0m \u001b[31m19.8 MB/s\u001b[0m eta \u001b[36m0:00:00\u001b[0m\n",
      "\u001b[?25hRequirement already satisfied: pyopengl in /usr/local/lib/python3.10/dist-packages (from mujoco>=2.3.3->gymnasium[mujoco]) (3.1.7)\n",
      "Requirement already satisfied: fsspec in /usr/local/lib/python3.10/dist-packages (from etils[epath]->mujoco>=2.3.3->gymnasium[mujoco]) (2023.6.0)\n",
      "Requirement already satisfied: importlib_resources in /usr/local/lib/python3.10/dist-packages (from etils[epath]->mujoco>=2.3.3->gymnasium[mujoco]) (6.1.1)\n",
      "Requirement already satisfied: zipp in /usr/local/lib/python3.10/dist-packages (from etils[epath]->mujoco>=2.3.3->gymnasium[mujoco]) (3.17.0)\n",
      "Installing collected packages: glfw, farama-notifications, gymnasium, mujoco\n",
      "Successfully installed farama-notifications-0.0.4 glfw-2.6.3 gymnasium-0.29.1 mujoco-3.0.1\n"
     ]
    }
   ],
   "source": [
    "!pip install gymnasium[mujoco]"
   ]
  },
  {
   "cell_type": "code",
   "execution_count": null,
   "metadata": {
    "id": "iYtQ8AZgGAfE"
   },
   "outputs": [],
   "source": [
    "from collections import deque\n",
    "import torch\n",
    "import torch.nn as nn\n",
    "import torch.nn.functional as F\n",
    "import gymnasium as gym\n",
    "import numpy as np\n",
    "import random\n",
    "import matplotlib.pyplot as plt"
   ]
  },
  {
   "cell_type": "markdown",
   "metadata": {
    "id": "CGDEHzCiGV89"
   },
   "source": [
    "# El agente"
   ]
  },
  {
   "cell_type": "code",
   "execution_count": null,
   "metadata": {
    "id": "7nTnPZ3gGYfF"
   },
   "outputs": [],
   "source": [
    "class DQN(nn.Module):\n",
    "    def __init__(self, num_inputs, num_actions):\n",
    "        super(DQN, self).__init__()\n",
    "        self.fc1 = nn.Linear(num_inputs, 32)\n",
    "        self.fc2 = nn.Linear(32, 32)\n",
    "        self.out = nn.Linear(32, num_actions)\n",
    "\n",
    "    def forward(self, states):\n",
    "        x = F.relu(self.fc1(states))\n",
    "        x = F.relu(self.fc2(x))\n",
    "        return self.out(x)"
   ]
  },
  {
   "cell_type": "markdown",
   "metadata": {
    "id": "m-HmaMPsGbCs"
   },
   "source": [
    "## El buffer de recuerdos"
   ]
  },
  {
   "cell_type": "code",
   "execution_count": null,
   "metadata": {
    "id": "EbQfzq7rGe2w"
   },
   "outputs": [],
   "source": [
    "class ReplayBuffer(object):\n",
    "    def __init__(self, size, device = 'cpu'):\n",
    "        self.buffer = deque(maxlen = size)\n",
    "        self.device = device\n",
    "\n",
    "    def add(self, state, action, reward, next_state, done):\n",
    "        self.buffer.append((state, action, reward, next_state, done))\n",
    "\n",
    "    def __len__(self):\n",
    "        return len(self.buffer)\n",
    "\n",
    "    def sample(self, num_samples):\n",
    "        states, actions, rewards, next_states, dones = [], [], [], [], []\n",
    "        idx = np.random.choice(len(self.buffer), num_samples)\n",
    "        for i in idx:\n",
    "            elem = self.buffer[i]\n",
    "            state, action, reward, next_state, done = elem\n",
    "            states.append(state)\n",
    "            actions.append(action)\n",
    "            rewards.append(reward)\n",
    "            next_states.append(next_state)\n",
    "            dones.append(done)\n",
    "        states = torch.as_tensor(np.array(states), device=self.device)\n",
    "        actions = torch.as_tensor(np.array(actions), device=self.device)\n",
    "        rewards = torch.as_tensor(np.array(rewards, dtype=np.float32), device=self.device)\n",
    "        next_states = torch.as_tensor(np.array(next_states), device=self.device)\n",
    "        dones = torch.as_tensor(np.array(dones, dtype=np.float32), device=self.device)\n",
    "        return states, actions, rewards, next_states, dones"
   ]
  },
  {
   "cell_type": "markdown",
   "metadata": {
    "id": "2RDrzSj6Q88W"
   },
   "source": [
    "## Conversión entre acciones\n",
    "\n",
    "Q-learning opera con acciones discretas, por lo que debemos crear un arreglo de acciones para mapear un número entero a un número flotante entre -3 y 3."
   ]
  },
  {
   "cell_type": "code",
   "execution_count": null,
   "metadata": {
    "id": "dT7dbyNqQ7kG"
   },
   "outputs": [],
   "source": [
    "actions_continuous = np.linspace(-3.0, 3.0, num=100)\n",
    "\n",
    "def d2c(idx):\n",
    "    return torch.tensor([actions_continuous[idx]], dtype=torch.float32)"
   ]
  },
  {
   "cell_type": "markdown",
   "metadata": {
    "id": "Q-FCnOlaH04D"
   },
   "source": [
    "## Toma de acción epsilon-greedy"
   ]
  },
  {
   "cell_type": "code",
   "execution_count": null,
   "metadata": {
    "id": "lO3MvJQtH9uI"
   },
   "outputs": [],
   "source": [
    "def epsilon_greedy(state, epsilon, env, main_nn):\n",
    "    result = np.random.uniform()\n",
    "    if result < epsilon:\n",
    "        return random.randint(0, actions_continuous.shape[0]-1) # acción aleatoria\n",
    "    else:\n",
    "        qs = main_nn(torch.tensor(state, dtype=torch.float32)).cpu().data.numpy()\n",
    "        return np.argmax(qs) # acción greedy"
   ]
  },
  {
   "cell_type": "markdown",
   "metadata": {
    "id": "huhSi5hXH_NX"
   },
   "source": [
    "## Función de entrenamiento"
   ]
  },
  {
   "cell_type": "code",
   "execution_count": null,
   "metadata": {
    "id": "M42WWBY1ICsY"
   },
   "outputs": [],
   "source": [
    "def train_step(target_nn, discount, main_nn, optimizer, num_actions, loss_fn, states, actions, rewards, next_states, dones):\n",
    "    max_next_qs = target_nn(next_states.type(torch.float32)).max(-1).values\n",
    "    target = rewards + (1.0 - dones) * discount * max_next_qs\n",
    "    qs = main_nn(states.type(torch.float32))\n",
    "    action_masks = F.one_hot(actions, num_actions)\n",
    "    masked_qs = (action_masks * qs).sum(dim=-1)\n",
    "    loss = loss_fn(masked_qs, target.detach())\n",
    "    optimizer.zero_grad()\n",
    "    loss.backward()\n",
    "    optimizer.step()\n",
    "    return loss"
   ]
  },
  {
   "cell_type": "code",
   "execution_count": null,
   "metadata": {
    "colab": {
     "base_uri": "https://localhost:8080/"
    },
    "id": "jqva_K_fcdwa",
    "outputId": "3051e595-b4c4-45bc-9cf3-01e7f0e7408c"
   },
   "outputs": [
    {
     "name": "stdout",
     "output_type": "stream",
     "text": [
      "Dimensión de observación: 4\n",
      "Dimensión de acción: 1\n"
     ]
    }
   ],
   "source": [
    "# ambiente\n",
    "env = gym.make('InvertedPendulum-v4')\n",
    "print('Dimensión de observación:', env.observation_space.shape[0])\n",
    "print('Dimensión de acción:', env.action_space.shape[0])"
   ]
  },
  {
   "cell_type": "code",
   "execution_count": null,
   "metadata": {
    "id": "6hrOzHjORhMz"
   },
   "outputs": [],
   "source": [
    "# Parámetros\n",
    "episodios = 20000\n",
    "batch_size = 64\n",
    "discount = 0.99"
   ]
  },
  {
   "cell_type": "markdown",
   "metadata": {
    "id": "c3pljuHsIWje"
   },
   "source": [
    "Algoritmo q-learning (o DQN)"
   ]
  },
  {
   "cell_type": "code",
   "execution_count": null,
   "metadata": {
    "id": "NtkBn6ruIbrl"
   },
   "outputs": [],
   "source": [
    "def qlearning():\n",
    "    num_features = env.observation_space.shape[0]\n",
    "    num_actions = len(actions_continuous)\n",
    "    device = torch.device('cuda' if torch.cuda.is_available() else 'cpu')\n",
    "    main_nn = DQN(num_features, num_actions).to(device)\n",
    "    target_nn = DQN(num_features, num_actions).to(device)\n",
    "    optimizer = torch.optim.Adam(main_nn.parameters(), lr = 1e-4)\n",
    "    loss_fn = nn.MSELoss()\n",
    "    #Hyperparámetros\n",
    "    eps1 = np.ones(int(episodios*0.3), dtype = np.float32) # el 30% de las veces será aleatorio\n",
    "    eps2 = np.linspace(1,0.001, num = int(episodios - eps1.shape[0])) # la épsilon va decrementando con el tiempo\n",
    "    epsilon = np.concatenate([eps1, eps2])\n",
    "    buffer = ReplayBuffer(100000, device = device)\n",
    "    cur_frame = 0\n",
    "    total_reward = []\n",
    "    for episode in range(episodios):\n",
    "        state, info = env.reset()\n",
    "        ep_reward = 0\n",
    "        done = False\n",
    "        truncated = False\n",
    "        pasos = 0\n",
    "        while not done and not truncated:\n",
    "            action = epsilon_greedy(state, epsilon[episode], env, main_nn)\n",
    "            act_cont = d2c(action)\n",
    "            observation, reward, done, truncated, info = env.step(act_cont)\n",
    "            ep_reward += reward\n",
    "            # Se guarda la experiencia\n",
    "            buffer.add(state, action, reward, observation, done)\n",
    "            state = observation\n",
    "            cur_frame += 1\n",
    "            pasos += 1\n",
    "            # copiar valores de main_nn a target_nn\n",
    "            if cur_frame % 100 == 0:\n",
    "                target_nn.load_state_dict(main_nn.state_dict())\n",
    "            # Entrenamiento\n",
    "            if len(buffer) > batch_size:\n",
    "                states, actions, rewards, next_states, dones = buffer.sample(batch_size)\n",
    "                loss = train_step(target_nn, discount, main_nn, optimizer, num_actions, loss_fn, states, actions, rewards, next_states, dones)\n",
    "        total_reward.append(ep_reward)\n",
    "        logs_size = 1000\n",
    "        if episode % logs_size == 0 and episode >= logs_size:\n",
    "            rec1000eps = 0\n",
    "            for i in range(len(total_reward)-logs_size, len(total_reward)):\n",
    "                rec1000eps += total_reward[i]\n",
    "            print('Episodio:', episode, '\\nRecompensa promedio:', rec1000eps/logs_size)\n",
    "    plt.plot(total_reward)\n",
    "    plt.xlabel('Episodio')\n",
    "    plt.ylabel('Recompensa total')\n",
    "    plt.show()\n",
    "    return(env, main_nn, device)"
   ]
  },
  {
   "cell_type": "markdown",
   "metadata": {
    "id": "yFaB9mJRJRRa"
   },
   "source": [
    "Se prueba el algoritmo DQN y se grafica la recompensa media respecto al episodio."
   ]
  },
  {
   "cell_type": "code",
   "execution_count": null,
   "metadata": {
    "colab": {
     "base_uri": "https://localhost:8080/",
     "height": 1000
    },
    "id": "7nWBUizXJlwS",
    "outputId": "04e9ac88-3701-4798-d0a7-2bf15a218136"
   },
   "outputs": [
    {
     "name": "stdout",
     "output_type": "stream",
     "text": [
      "Episodio: 1000 \n",
      "Recompensa promedio: 6.081\n",
      "Episodio: 2000 \n",
      "Recompensa promedio: 6.12\n",
      "Episodio: 3000 \n",
      "Recompensa promedio: 6.195\n",
      "Episodio: 4000 \n",
      "Recompensa promedio: 6.082\n",
      "Episodio: 5000 \n",
      "Recompensa promedio: 5.997\n",
      "Episodio: 6000 \n",
      "Recompensa promedio: 5.847\n",
      "Episodio: 7000 \n",
      "Recompensa promedio: 6.35\n",
      "Episodio: 8000 \n",
      "Recompensa promedio: 7.18\n",
      "Episodio: 9000 \n",
      "Recompensa promedio: 8.03\n",
      "Episodio: 10000 \n",
      "Recompensa promedio: 9.462\n",
      "Episodio: 11000 \n",
      "Recompensa promedio: 10.118\n",
      "Episodio: 12000 \n",
      "Recompensa promedio: 12.202\n",
      "Episodio: 13000 \n",
      "Recompensa promedio: 13.575\n",
      "Episodio: 14000 \n",
      "Recompensa promedio: 16.341\n",
      "Episodio: 15000 \n",
      "Recompensa promedio: 20.715\n",
      "Episodio: 16000 \n",
      "Recompensa promedio: 26.375\n",
      "Episodio: 17000 \n",
      "Recompensa promedio: 36.7\n",
      "Episodio: 18000 \n",
      "Recompensa promedio: 61.233\n",
      "Episodio: 19000 \n",
      "Recompensa promedio: 93.802\n"
     ]
    },
    {
     "data": {
      "image/png": "[encoded data removed]",
      "text/plain": [
       "<Figure size 640x480 with 1 Axes>"
      ]
     },
     "metadata": {},
     "output_type": "display_data"
    }
   ],
   "source": [
    "env, main_nn, device = qlearning()"
   ]
  },
  {
   "cell_type": "code",
   "execution_count": null,
   "metadata": {
    "id": "1nczLG70kXRC"
   },
   "outputs": [],
   "source": [
    "# guardar el estado de la red\n",
    "torch.save(main_nn.state_dict(), 'agente_dqn_mujoco.pt')"
   ]
  }
 ],
 "metadata": {
  "colab": {
   "provenance": []
  },
  "kernelspec": {
   "display_name": "Python 3 (ipykernel)",
   "language": "python",
   "name": "python3"
  },
  "language_info": {
   "codemirror_mode": {
    "name": "ipython",
    "version": 3
   },
   "file_extension": ".py",
   "mimetype": "text/x-python",
   "name": "python",
   "nbconvert_exporter": "python",
   "pygments_lexer": "ipython3",
   "version": "3.10.12"
  }
 },
 "nbformat": 4,
 "nbformat_minor": 1
}
