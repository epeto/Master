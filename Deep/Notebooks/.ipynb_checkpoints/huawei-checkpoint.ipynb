{
 "cells": [
  {
   "cell_type": "markdown",
   "id": "88f24369",
   "metadata": {},
   "source": [
    "## Huawei"
   ]
  },
  {
   "cell_type": "code",
   "execution_count": 1,
   "id": "04e6494a",
   "metadata": {},
   "outputs": [],
   "source": [
    "import torch\n",
    "import numpy as np\n",
    "from torch import nn"
   ]
  },
  {
   "cell_type": "markdown",
   "id": "7b250751",
   "metadata": {},
   "source": [
    "Creamos un tensor de ejemplo de $1 \\times 1 \\times 32 \\times 32$, donde las primeras 2 dimensiones son el tamaño del batch y el tamaño del canal, respectivamente."
   ]
  },
  {
   "cell_type": "code",
   "execution_count": 2,
   "id": "e88d5967",
   "metadata": {},
   "outputs": [
    {
     "name": "stdout",
     "output_type": "stream",
     "text": [
      "torch.Size([1, 1, 32, 32])\n"
     ]
    }
   ],
   "source": [
    "minibatch = torch.rand((1,1,32, 32))\n",
    "print(minibatch.shape)"
   ]
  },
  {
   "cell_type": "markdown",
   "id": "1666e85f",
   "metadata": {},
   "source": [
    "Creamos una capa convolucional con kernel $5 \\times 5$ y stride=2."
   ]
  },
  {
   "cell_type": "code",
   "execution_count": 3,
   "id": "918c1fcc",
   "metadata": {},
   "outputs": [
    {
     "name": "stdout",
     "output_type": "stream",
     "text": [
      "torch.Size([1, 1, 14, 14])\n"
     ]
    }
   ],
   "source": [
    "conv1 = nn.Conv2d(in_channels=1, out_channels=1, kernel_size=(5,5), stride=2)\n",
    "salidaMB = conv1.forward(minibatch)\n",
    "print(salidaMB.shape)"
   ]
  },
  {
   "cell_type": "markdown",
   "id": "6940f31a",
   "metadata": {},
   "source": [
    "## Pregunta 2 (o 10)"
   ]
  },
  {
   "cell_type": "markdown",
   "id": "b7b13367",
   "metadata": {},
   "source": [
    "Se crea un minibatch de tamaño 1, con 5 canales y una capa convolucional con 256 canales de salida."
   ]
  },
  {
   "cell_type": "code",
   "execution_count": 5,
   "id": "2cb0ee61",
   "metadata": {},
   "outputs": [
    {
     "name": "stdout",
     "output_type": "stream",
     "text": [
      "torch.Size([1, 5, 32, 32])\n"
     ]
    }
   ],
   "source": [
    "minibatch2 = torch.rand((1,5,32,32))\n",
    "print(minibatch2.shape)"
   ]
  },
  {
   "cell_type": "code",
   "execution_count": 6,
   "id": "9bd0a187",
   "metadata": {},
   "outputs": [
    {
     "name": "stdout",
     "output_type": "stream",
     "text": [
      "torch.Size([1, 256, 15, 15])\n"
     ]
    }
   ],
   "source": [
    "conv2 = nn.Conv2d(in_channels=5, out_channels=256, kernel_size=(5,5), stride=2, padding=1)\n",
    "salidaMB2 = conv2.forward(minibatch2)\n",
    "print(salidaMB2.shape)"
   ]
  },
  {
   "cell_type": "markdown",
   "id": "ee148420",
   "metadata": {},
   "source": [
    "## Pregunta 3"
   ]
  },
  {
   "cell_type": "code",
   "execution_count": 7,
   "id": "7ab18b0d",
   "metadata": {},
   "outputs": [
    {
     "name": "stdout",
     "output_type": "stream",
     "text": [
      "torch.Size([1, 1, 2])\n"
     ]
    }
   ],
   "source": [
    "tensor_ej = torch.tensor([[[2,3]]])\n",
    "print(tensor_ej.shape)"
   ]
  },
  {
   "cell_type": "code",
   "execution_count": null,
   "id": "2342bb46",
   "metadata": {},
   "outputs": [],
   "source": []
  }
 ],
 "metadata": {
  "kernelspec": {
   "display_name": "Python 3 (ipykernel)",
   "language": "python",
   "name": "python3"
  },
  "language_info": {
   "codemirror_mode": {
    "name": "ipython",
    "version": 3
   },
   "file_extension": ".py",
   "mimetype": "text/x-python",
   "name": "python",
   "nbconvert_exporter": "python",
   "pygments_lexer": "ipython3",
   "version": "3.10.12"
  }
 },
 "nbformat": 4,
 "nbformat_minor": 5
}
