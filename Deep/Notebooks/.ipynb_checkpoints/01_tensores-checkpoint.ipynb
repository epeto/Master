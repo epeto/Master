{
 "cells": [
  {
   "cell_type": "markdown",
   "id": "5e5cd21e",
   "metadata": {},
   "source": [
    "# Tensores"
   ]
  },
  {
   "cell_type": "markdown",
   "id": "40c7f3c6",
   "metadata": {},
   "source": [
    "PyTorch es una biblioteca y marco de trabajo de código abierto que facilita la programación de redes neuronales profundas, ofreciendo varias funciones, clases y herramientas. En particular:\n",
    "<ol>\n",
    "    <li>Definición de arreglos multidimensionales (clase <tt>Tensor</tt>) y operaciones entre ellos con soporte para GPUs y cómputo distribuido.</li>\n",
    "    <li>Diferenciación automática.</li>\n",
    "    <li>Interfaz modular con distintos niveles de abstracción para definir arquitecturas de redes neuronales y entrenarlas.</li>\n",
    "    <li>Clases y funciones para carga, generación de lotes y preprocesamiento de conjuntos de datos.\n",
    "</ol>"
   ]
  },
  {
   "cell_type": "markdown",
   "id": "8cdf0168",
   "metadata": {},
   "source": [
    "<img src=\"tensor1.png\" />"
   ]
  },
  {
   "cell_type": "code",
   "execution_count": 1,
   "id": "53ea37c6",
   "metadata": {},
   "outputs": [],
   "source": [
    "import torch as th\n",
    "import numpy as np"
   ]
  },
  {
   "cell_type": "code",
   "execution_count": null,
   "id": "b970b571",
   "metadata": {},
   "outputs": [],
   "source": []
  }
 ],
 "metadata": {
  "kernelspec": {
   "display_name": "Python 3 (ipykernel)",
   "language": "python",
   "name": "python3"
  },
  "language_info": {
   "codemirror_mode": {
    "name": "ipython",
    "version": 3
   },
   "file_extension": ".py",
   "mimetype": "text/x-python",
   "name": "python",
   "nbconvert_exporter": "python",
   "pygments_lexer": "ipython3",
   "version": "3.10.12"
  }
 },
 "nbformat": 4,
 "nbformat_minor": 5
}
