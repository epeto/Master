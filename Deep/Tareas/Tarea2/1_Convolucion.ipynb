{
  "nbformat": 4,
  "nbformat_minor": 0,
  "metadata": {
    "colab": {
      "provenance": []
    },
    "kernelspec": {
      "name": "python3",
      "display_name": "Python 3"
    },
    "language_info": {
      "name": "python"
    }
  },
  "cells": [
    {
      "cell_type": "markdown",
      "source": [
        "# Operación de convolución"
      ],
      "metadata": {
        "id": "stMzP2FPa_Iu"
      }
    },
    {
      "cell_type": "code",
      "source": [
        "import numpy as np\n",
        "import matplotlib.pyplot as plt"
      ],
      "metadata": {
        "id": "JqHCQtg9zN2w"
      },
      "execution_count": null,
      "outputs": []
    },
    {
      "cell_type": "markdown",
      "source": [
        "Primero se creará una imagen con 3 canales."
      ],
      "metadata": {
        "id": "cHqd15Owy5VW"
      }
    },
    {
      "cell_type": "code",
      "source": [
        "imgchar_np = np.array([['B','B','B','B','R','R','R','R','B','B','B','B'],\n",
        "['B','B','B','R','R','R','R','R','R','R','R','B'],\n",
        "['B','B','C','C','C','P','P','N','P','B','B','B'],\n",
        "['B','C','P','C','P','P','P','N','P','P','P','B'],\n",
        "['B','C','P','C','C','P','P','P','C','P','P','P'],\n",
        "['B','C','C','P','P','P','P','C','C','C','C','B'],\n",
        "['B','B','B','P','P','P','P','P','P','P','B','B'],\n",
        "['B','B','R','R','A','R','R','R','B','B','B','B'],\n",
        "['B','R','R','R','A','R','R','A','R','R','R','B'],\n",
        "['R','R','R','R','A','A','A','A','R','R','R','R'],\n",
        "['P','P','R','A','Y','A','A','Y','A','R','R','P'],\n",
        "['P','P','P','A','A','A','A','A','A','P','P','P'],\n",
        "['P','P','A','A','A','A','A','A','A','A','P','P'],\n",
        "['B','B','A','A','A','B','B','A','A','A','B','B'],\n",
        "['B','C','C','C','B','B','B','B','C','C','C','B'],\n",
        "['C','C','C','C','B','B','B','B','C','C','C','C']])\n",
        "\n",
        "diccionario_colores = {'B':(255.,255.,255.), 'R':(255.,0.,0.), 'Y':(255.,255.,0.), 'C':(128.,64.,0.), 'A':(0.,0.,255.), 'N':(0.,0.,0.), 'P':(253., 221., 202.)}\n",
        "img_rgb = np.zeros((imgchar_np.shape[0], imgchar_np.shape[1], 3))\n",
        "\n",
        "for i in range(imgchar_np.shape[0]):\n",
        "    for j in range(imgchar_np.shape[1]):\n",
        "        tupla_color = diccionario_colores[imgchar_np[i][j]]\n",
        "        img_rgb[i][j][0] = tupla_color[0]\n",
        "        img_rgb[i][j][1] = tupla_color[1]\n",
        "        img_rgb[i][j][2] = tupla_color[2]\n",
        "\n",
        "# se normalizan los datos para que estén entre 0 y 1:\n",
        "img_rgb = img_rgb/255.0"
      ],
      "metadata": {
        "id": "m_rKoQx0xCSe"
      },
      "execution_count": null,
      "outputs": []
    },
    {
      "cell_type": "markdown",
      "source": [
        "Se despliega la imagen de NumPy."
      ],
      "metadata": {
        "id": "1e48cevU-ir8"
      }
    },
    {
      "cell_type": "code",
      "source": [
        "imgplot = plt.imshow(img_rgb)"
      ],
      "metadata": {
        "colab": {
          "base_uri": "https://localhost:8080/",
          "height": 430
        },
        "id": "qBRKRwXB-iKr",
        "outputId": "c8340544-9984-432f-ca56-6046fd4cc1fd"
      },
      "execution_count": null,
      "outputs": [
        {
          "output_type": "display_data",
          "data": {
            "text/plain": [
              "<Figure size 640x480 with 1 Axes>"
            ],
            "image/png": "[encoded data removed]"
          },
          "metadata": {}
        }
      ]
    },
    {
      "cell_type": "markdown",
      "source": [
        "Para convolución de imágenes con 3 canales simplemente se debe pasar un filtro (`W`) de 3 dimensiones, donde la profundidad sea 3."
      ],
      "metadata": {
        "id": "1DCXXL86A8F-"
      }
    },
    {
      "cell_type": "code",
      "source": [
        "def conv3d(I, W, b, stride=1):\n",
        "    h_s = int(np.floor((I.shape[0] - W.shape[0]) / stride)) + 1\n",
        "    w_s = int(np.floor((I.shape[1] - W.shape[1]) / stride)) + 1\n",
        "    a = np.zeros((h_s, w_s))\n",
        "    for i in range(h_s):\n",
        "        for j in range(w_s):\n",
        "            I_m = I[i*stride:i*stride + W.shape[0], j*stride:j*stride + W.shape[1]]\n",
        "            a[i, j] = (I_m * W).sum() + b\n",
        "    return a"
      ],
      "metadata": {
        "id": "y9LkpGN1BCSS"
      },
      "execution_count": null,
      "outputs": []
    },
    {
      "cell_type": "markdown",
      "source": [
        "Primero observemos lo que ocurre con un filtro de puros 1's"
      ],
      "metadata": {
        "id": "CUCV2U6rFL1T"
      }
    },
    {
      "cell_type": "code",
      "source": [
        "filtro1 = np.ones((3,3,3))\n",
        "res_conv1 = conv3d(img_rgb, filtro1, 0, 1)\n",
        "res_conv1 = res_conv1/res_conv1.max() # normalización\n",
        "imshow1 = plt.imshow(res_conv1, cmap='gray')"
      ],
      "metadata": {
        "colab": {
          "base_uri": "https://localhost:8080/",
          "height": 430
        },
        "id": "T09YjOdHFRZU",
        "outputId": "efeeefc7-5b89-4574-c3a3-3e4c543bf18a"
      },
      "execution_count": null,
      "outputs": [
        {
          "output_type": "display_data",
          "data": {
            "text/plain": [
              "<Figure size 640x480 with 1 Axes>"
            ],
            "image/png": "[encoded data removed]"
          },
          "metadata": {}
        }
      ]
    },
    {
      "cell_type": "markdown",
      "source": [
        "Ahora con otro filtro que tenga otros números."
      ],
      "metadata": {
        "id": "C_xsI2WTFd3X"
      }
    },
    {
      "cell_type": "code",
      "source": [
        "filtro2 = np.array([[[1,2,3], [1,0,0], [1,2,1]],\n",
        "                   [[0,1,2], [3,1,1], [1,0,1]],\n",
        "                   [[3,2,1], [0,0,1], [1,3,2]]])\n",
        "\n",
        "res_conv2 = conv3d(img_rgb, filtro2, 0, 1)\n",
        "res_conv2 = res_conv2/res_conv2.max() # normalización\n",
        "imshow2 = plt.imshow(res_conv2, cmap='gray')"
      ],
      "metadata": {
        "colab": {
          "base_uri": "https://localhost:8080/",
          "height": 430
        },
        "id": "Nv19_ZZQB1m4",
        "outputId": "b36c395d-fc59-4a33-c5fe-b3e348aa6603"
      },
      "execution_count": null,
      "outputs": [
        {
          "output_type": "display_data",
          "data": {
            "text/plain": [
              "<Figure size 640x480 with 1 Axes>"
            ],
            "image/png": "[encoded data removed]"
          },
          "metadata": {}
        }
      ]
    }
  ]
}