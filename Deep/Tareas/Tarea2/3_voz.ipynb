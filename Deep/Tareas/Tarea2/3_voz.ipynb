{
  "cells": [
    {
      "cell_type": "markdown",
      "metadata": {
        "id": "bdNNXN0UKNPg"
      },
      "source": [
        "# Reconocimiento de comandos de voz"
      ]
    },
    {
      "cell_type": "code",
      "execution_count": null,
      "metadata": {
        "id": "_DvIhPtrKcU3"
      },
      "outputs": [],
      "source": [
        "try:\n",
        "    import torchinfo\n",
        "except:\n",
        "    ! pip install torchinfo\n",
        "try:\n",
        "    import torchaudio\n",
        "except:\n",
        "    ! pip install torchaudio"
      ]
    },
    {
      "cell_type": "code",
      "execution_count": null,
      "metadata": {
        "id": "aZkRrVLGKxRx"
      },
      "outputs": [],
      "source": [
        "import random\n",
        "from itertools import islice as take\n",
        "import librosa\n",
        "import librosa.display\n",
        "import IPython as ip\n",
        "import matplotlib.pyplot as plt\n",
        "import numpy as np\n",
        "import torch\n",
        "import torch.nn as nn\n",
        "import torch.nn.functional as F\n",
        "import torch.optim as optim\n",
        "import torchaudio\n",
        "import torchaudio.transforms as T\n",
        "import torchvision.models as tvm\n",
        "from torch.utils.data import DataLoader\n",
        "from torchaudio.datasets import SPEECHCOMMANDS\n",
        "from torchinfo import summary\n",
        "from tqdm.auto import trange\n",
        "import collections\n",
        "from os.path import join\n",
        "from sklearn.model_selection import train_test_split\n",
        "from torch.utils.tensorboard import SummaryWriter"
      ]
    },
    {
      "cell_type": "markdown",
      "metadata": {
        "id": "dLrkr6YIOuvO"
      },
      "source": [
        "Otras importaciones"
      ]
    },
    {
      "cell_type": "code",
      "execution_count": null,
      "metadata": {
        "id": "vadOuTOuOwK1"
      },
      "outputs": [],
      "source": [
        "from torch.optim import Adam"
      ]
    },
    {
      "cell_type": "code",
      "execution_count": null,
      "metadata": {
        "id": "chzNQU79LC3D"
      },
      "outputs": [],
      "source": [
        "#Creamos carpeta en colab para los datos (no ejecutar si ya existe la carpeta):\n",
        "! mkdir datos"
      ]
    },
    {
      "cell_type": "code",
      "execution_count": null,
      "metadata": {
        "colab": {
          "base_uri": "https://localhost:8080/"
        },
        "id": "ubRVWoKdNnSy",
        "outputId": "d1424db9-d925-4de0-fac0-99c3220fca39"
      },
      "outputs": [
        {
          "name": "stderr",
          "output_type": "stream",
          "text": [
            "100%|██████████| 2.26G/2.26G [04:43<00:00, 8.55MB/s]\n"
          ]
        }
      ],
      "source": [
        "# directorio de datos\n",
        "DATA_DIR = 'datos'\n",
        "ds = SPEECHCOMMANDS(DATA_DIR, download=True)"
      ]
    },
    {
      "cell_type": "markdown",
      "metadata": {
        "id": "BaPOGJKeQ63O"
      },
      "source": [
        "## El conjunto de datos"
      ]
    },
    {
      "cell_type": "code",
      "execution_count": null,
      "metadata": {
        "colab": {
          "base_uri": "https://localhost:8080/"
        },
        "id": "ZpBndJTcRR-B",
        "outputId": "c73ab0b4-06e2-41fb-bdf7-3a02b771e74a"
      },
      "outputs": [
        {
          "name": "stdout",
          "output_type": "stream",
          "text": [
            "{'backward': 0, 'bed': 1, 'bird': 2, 'cat': 3, 'dog': 4, 'down': 5, 'eight': 6, 'five': 7, 'follow': 8, 'forward': 9, 'four': 10, 'go': 11, 'happy': 12, 'house': 13, 'learn': 14, 'left': 15, 'marvin': 16, 'nine': 17, 'no': 18, 'off': 19, 'on': 20, 'one': 21, 'right': 22, 'seven': 23, 'sheila': 24, 'six': 25, 'stop': 26, 'three': 27, 'tree': 28, 'two': 29, 'up': 30, 'visual': 31, 'wow': 32, 'yes': 33, 'zero': 34}\n"
          ]
        }
      ],
      "source": [
        "# tamaño del lote\n",
        "BATCH_SIZE = 32\n",
        "\n",
        "# parámetros de audio\n",
        "SECS = 1\n",
        "SAMPLE_RATE = 16000\n",
        "\n",
        "# parámetros FFT\n",
        "N_FFT = 400\n",
        "HOP_LENGTH = N_FFT // 2\n",
        "\n",
        "# SpeechCommands classes\n",
        "CLASSES = (\n",
        "    'backward', 'bed', 'bird', 'cat', 'dog',\n",
        "    'down', 'eight', 'five', 'follow', 'forward',\n",
        "    'four', 'go', 'happy', 'house', 'learn',\n",
        "    'left', 'marvin', 'nine', 'no', 'off',\n",
        "    'on', 'one', 'right', 'seven', 'sheila',\n",
        "    'six', 'stop', 'three', 'tree', 'two',\n",
        "    'up', 'visual', 'wow', 'yes', 'zero'\n",
        ")\n",
        "\n",
        "NUM_CLASSES = len(CLASSES)\n",
        "CLASS_IDX = {c: i for i, c in enumerate(CLASSES)}\n",
        "print(CLASS_IDX)\n",
        "\n",
        "\n",
        "def set_seed(seed=0):\n",
        "    \"\"\"Initializes pseudo-random number generators.\"\"\"\n",
        "    random.seed(seed)\n",
        "    np.random.seed(seed)\n",
        "    torch.manual_seed(seed)\n",
        "\n",
        "\n",
        "# reproducibilidad\n",
        "set_seed(150)"
      ]
    },
    {
      "cell_type": "markdown",
      "metadata": {
        "id": "LL5XsuPFRaST"
      },
      "source": [
        "Se define la función para transformación a espectrograma Mel."
      ]
    },
    {
      "cell_type": "code",
      "execution_count": null,
      "metadata": {
        "colab": {
          "base_uri": "https://localhost:8080/"
        },
        "id": "fcdSuE9tRZuy",
        "outputId": "5b64b107-499d-4cc4-e047-ebe6a9ee0da9"
      },
      "outputs": [
        {
          "name": "stderr",
          "output_type": "stream",
          "text": [
            "C:\\Users\\duffl\\anaconda3\\Lib\\site-packages\\torchaudio\\functional\\functional.py:584: UserWarning: At least one mel filterbank has all zero values. The value for `n_mels` (128) may be set too high. Or, the value for `n_freqs` (201) may be set too low.\n",
            "  warnings.warn(\n"
          ]
        }
      ],
      "source": [
        "melspect = T.MelSpectrogram(n_fft=N_FFT, hop_length=HOP_LENGTH)"
      ]
    },
    {
      "cell_type": "code",
      "execution_count": null,
      "metadata": {
        "id": "xs1gwrLgSCug"
      },
      "outputs": [],
      "source": [
        "def identity(x):\n",
        "    return x\n",
        "\n",
        "\n",
        "def label2index(label):\n",
        "    return CLASS_IDX[label]\n",
        "\n",
        "\n",
        "class SPEECHCOMMANDS2(SPEECHCOMMANDS):\n",
        "\n",
        "    def __init__(self, root, download=False, subset=None,\n",
        "                 waveform_tsfm=identity, label_tsfm=identity):\n",
        "        super().__init__(root=root, download=download, subset=subset)\n",
        "        self.waveform_tsfm = waveform_tsfm\n",
        "        self.label_tsfm = label_tsfm\n",
        "\n",
        "    def __getitem__(self, i):\n",
        "        waveform, sample_rate, label, *_ = super().__getitem__(i)\n",
        "        x = melspect(self.waveform_tsfm(waveform)) # se aplica la transformación a espectrograma Mel\n",
        "        y = self.label_tsfm(label)\n",
        "        return x, y, label, sample_rate"
      ]
    },
    {
      "cell_type": "code",
      "execution_count": null,
      "metadata": {
        "id": "8JMuABTBaPN4"
      },
      "outputs": [],
      "source": [
        "class WaveformPadTruncate(nn.Module):\n",
        "\n",
        "    def __init__(self, secs=SECS, sample_rate=SAMPLE_RATE):\n",
        "        super().__init__()\n",
        "        self.samples = secs * sample_rate\n",
        "\n",
        "    def forward(self, waveform):\n",
        "        samples = waveform.shape[1]\n",
        "\n",
        "        if samples < self.samples:\n",
        "            difference = self.samples - samples\n",
        "            padding = torch.zeros(1, difference)\n",
        "            waveform = torch.cat([waveform, padding], 1)\n",
        "\n",
        "        elif samples > self.samples:\n",
        "            start = random.randint(0, waveform.shape[1] - self.samples)\n",
        "            # Devuelve un nuevo tensor que es una versión reducida del tensor de entrada.\n",
        "            waveform = waveform.narrow(1, start, self.samples) # (dimension, start, length)\n",
        "\n",
        "        return waveform"
      ]
    },
    {
      "cell_type": "markdown",
      "metadata": {
        "id": "3SUSHpGqSIDn"
      },
      "source": [
        "## Dataset y Dataloader"
      ]
    },
    {
      "cell_type": "code",
      "execution_count": null,
      "metadata": {
        "colab": {
          "base_uri": "https://localhost:8080/"
        },
        "id": "5x3zZD4ZSMOV",
        "outputId": "610bafe2-11c6-48cf-bdb6-427971c1f1ac"
      },
      "outputs": [
        {
          "name": "stdout",
          "output_type": "stream",
          "text": [
            "Tamaño entrenamiento: 84843\n",
            "Tamaño validación: 9981\n",
            "Tamaño prueba: 11005\n"
          ]
        }
      ],
      "source": [
        "# creamos un Dataset\n",
        "ds_ent = SPEECHCOMMANDS2(\n",
        "    # directorio de datos\n",
        "    root=DATA_DIR,\n",
        "    # transformación de la forma de onda\n",
        "    waveform_tsfm = WaveformPadTruncate(),\n",
        "    # transformación de etiqueta\n",
        "    label_tsfm=label2index,\n",
        "    subset = \"training\"\n",
        ")\n",
        "\n",
        "ds_val = SPEECHCOMMANDS2(\n",
        "    # directorio de datos\n",
        "    root=DATA_DIR,\n",
        "    # transformación de la forma de onda\n",
        "    waveform_tsfm = WaveformPadTruncate(),\n",
        "    # transformación de etiqueta\n",
        "    label_tsfm=label2index,\n",
        "    subset = \"validation\"\n",
        ")\n",
        "\n",
        "ds_pru = SPEECHCOMMANDS2(\n",
        "    # directorio de datos\n",
        "    root=DATA_DIR,\n",
        "    # transformación de la forma de onda\n",
        "    waveform_tsfm = WaveformPadTruncate(),\n",
        "    # transformación de etiqueta\n",
        "    label_tsfm=label2index,\n",
        "    subset = \"testing\"\n",
        ")\n",
        "\n",
        "print(\"Tamaño entrenamiento:\",len(ds_ent))\n",
        "print(\"Tamaño validación:\", len(ds_val))\n",
        "print(\"Tamaño prueba:\", len(ds_pru))"
      ]
    },
    {
      "cell_type": "markdown",
      "metadata": {
        "id": "A_eVJEmjorrx"
      },
      "source": [
        "Se crean los cargadores de datos."
      ]
    },
    {
      "cell_type": "code",
      "execution_count": null,
      "metadata": {
        "id": "gJ92MpRinGwW"
      },
      "outputs": [],
      "source": [
        "# creamos los DataLoader\n",
        "dl_ent = DataLoader(ds_ent, batch_size=BATCH_SIZE, shuffle=True)\n",
        "dl_val = DataLoader(ds_val, batch_size=BATCH_SIZE, shuffle=True)\n",
        "dl_pru = DataLoader(ds_pru, batch_size=1, shuffle=True)"
      ]
    },
    {
      "cell_type": "markdown",
      "metadata": {
        "id": "Wr2amzowScC1"
      },
      "source": [
        "Se observa la forma de un lote (de 32)."
      ]
    },
    {
      "cell_type": "code",
      "execution_count": null,
      "metadata": {
        "colab": {
          "base_uri": "https://localhost:8080/"
        },
        "id": "J8S4ADaQSfgF",
        "outputId": "570335cb-0433-4905-949a-5895db1224c5"
      },
      "outputs": [
        {
          "name": "stdout",
          "output_type": "stream",
          "text": [
            "x shape=torch.Size([32, 1, 128, 81]) dtype=torch.float32\n",
            "y shape=torch.Size([32]) dtype=torch.int64\n"
          ]
        }
      ],
      "source": [
        "x_sample, y_sample, labels_sample, sr_sample = next(iter(dl_ent))\n",
        "print(f'x shape={x_sample.shape} dtype={x_sample.dtype}')\n",
        "print(f'y shape={y_sample.shape} dtype={y_sample.dtype}')"
      ]
    },
    {
      "cell_type": "markdown",
      "metadata": {
        "id": "rszUBApkpl0I"
      },
      "source": [
        "Ahora se observa el aplanamiento de un lote de X."
      ]
    },
    {
      "cell_type": "code",
      "execution_count": null,
      "metadata": {
        "colab": {
          "base_uri": "https://localhost:8080/"
        },
        "id": "hr0Z-rtHpxEj",
        "outputId": "17df0762-d401-4200-f4ab-874982fc9ae7"
      },
      "outputs": [
        {
          "name": "stdout",
          "output_type": "stream",
          "text": [
            "x shape=torch.Size([32, 1, 10368])\n"
          ]
        }
      ],
      "source": [
        "x_sample_plano = torch.flatten(x_sample, start_dim = 2)\n",
        "print(f'x shape={x_sample_plano.shape}')"
      ]
    },
    {
      "cell_type": "markdown",
      "metadata": {
        "id": "bd58A5N4tWBO"
      },
      "source": [
        "## Entrenamiento y redes"
      ]
    },
    {
      "cell_type": "code",
      "execution_count": null,
      "metadata": {
        "id": "xoFsK0yytZ28"
      },
      "outputs": [],
      "source": [
        "# Constantes para el entrenamiento\n",
        "N_EPOCAS = 20\n",
        "LOGDIR = './logs/'\n",
        "DC = 'cuda:0' if torch.cuda.is_available() else 'cpu'"
      ]
    },
    {
      "cell_type": "code",
      "execution_count": null,
      "metadata": {
        "id": "XhvhmcwcvNpF"
      },
      "outputs": [],
      "source": [
        "def guarda_ckpt(ckptpath, modelo, epoca, opt):\n",
        "    estado_modelo = {'epoch': epoca,\n",
        "                     'model_state_dict': modelo.state_dict(),\n",
        "                     'optimizer_state_dict': opt.state_dict()}\n",
        "    torch.save(estado_modelo, ckptpath)"
      ]
    },
    {
      "cell_type": "code",
      "execution_count": null,
      "metadata": {
        "id": "Q8pW3hF4vV_t"
      },
      "outputs": [],
      "source": [
        "def registra_info_tboard(writer, epoca, hist):\n",
        "    for (m,v) in hist.items():\n",
        "        writer.add_scalar(m, v[epoca], epoca)"
      ]
    },
    {
      "cell_type": "code",
      "execution_count": null,
      "metadata": {
        "id": "WeRejjIfvlUC"
      },
      "outputs": [],
      "source": [
        "def exactitud(y_hat, y):\n",
        "    cmp = y_hat.argmax(dim=-1) == y\n",
        "    aciertos = torch.count_nonzero(cmp)\n",
        "    return aciertos / cmp.shape[0]"
      ]
    },
    {
      "cell_type": "code",
      "execution_count": null,
      "metadata": {
        "id": "gIG18dN3voKJ"
      },
      "outputs": [],
      "source": [
        "def paso_ent(modelo, fp, metrica, opt, X, y):\n",
        "    opt.zero_grad() # se ponen los gradientes asociados a los parámetros a actualizar en cero\n",
        "    y_hat = modelo(X) # se propagan las entradas para obtener las predicciones\n",
        "    perdida = fp(y_hat, y) # se calcula la pérdida\n",
        "    perdida.backward() # se obtienen los gradientes\n",
        "    opt.step() # se actualizan todos los parámetros del modelo\n",
        "\n",
        "    with torch.no_grad():\n",
        "        perdida_paso = perdida.cpu().numpy() # convertimos la pérdida (instancia de\n",
        "                                         # Tensor de orden 0) a NumPy, para\n",
        "                                         # lo que es necesario moverla a CPU\n",
        "        metricas_paso = metrica(y_hat, y)\n",
        "\n",
        "    return perdida_paso, metricas_paso"
      ]
    },
    {
      "cell_type": "code",
      "execution_count": null,
      "metadata": {
        "id": "dp4_5YI1vpMD"
      },
      "outputs": [],
      "source": [
        "import copy\n",
        "\n",
        "def entrena(modelo, fp, metrica, opt, entdl, valdl, disp, ckptpath, n_epocas = 10, tbdir = 'runs/', aplanar=False):\n",
        "    n_lotes_ent = len(entdl)\n",
        "    n_lotes_val = len(valdl)\n",
        "\n",
        "    hist = {'perdida_ent':np.zeros(n_epocas),\n",
        "            'perdida_val': np.zeros(n_epocas),\n",
        "            metrica.__name__ + '_ent': np.zeros(n_epocas),\n",
        "            metrica.__name__ + '_val': np.zeros(n_epocas)}\n",
        "\n",
        "    tbwriter = SummaryWriter(tbdir)\n",
        "    perdida_min = torch.inf\n",
        "    mejor_modelo = copy.deepcopy(modelo)\n",
        "    for e in range(n_epocas):\n",
        "        # bucle de entrenamiento\n",
        "        modelo.train()\n",
        "        for p, (Xlote,ylote,_,_) in enumerate(entdl):\n",
        "            if(aplanar):\n",
        "                Xlote = torch.flatten(Xlote, start_dim = 2)\n",
        "            Xlote = Xlote.to(disp)\n",
        "            ylote = ylote.type(torch.LongTensor) # agregada\n",
        "            ylote = ylote.to(disp)\n",
        "            perdida_paso, metrica_paso = paso_ent(modelo, fp, metrica, opt, Xlote, ylote)\n",
        "            hist['perdida_ent'][e] += perdida_paso\n",
        "            hist[metrica.__name__ + '_ent'][e] += metrica_paso\n",
        "\n",
        "        # bucle de validación\n",
        "        modelo.eval()\n",
        "        with torch.no_grad():\n",
        "            for Xlote,ylote,_,_ in valdl:\n",
        "                if(aplanar):\n",
        "                    Xlote = torch.flatten(Xlote, start_dim = 2)\n",
        "                Xlote = Xlote.to(disp)\n",
        "                ylote = ylote.type(torch.LongTensor) # agregada\n",
        "                ylote = ylote.to(disp)\n",
        "                y_hat = modelo(Xlote)\n",
        "                hist['perdida_val'][e] += fp(y_hat, ylote)\n",
        "                hist[metrica.__name__ + '_val'][e] += metrica(y_hat, ylote)\n",
        "\n",
        "        hist['perdida_ent'][e] /=  n_lotes_ent\n",
        "        hist[metrica.__name__ + '_ent'][e] /= n_lotes_ent\n",
        "        hist['perdida_val'][e] /=  n_lotes_val\n",
        "        hist[metrica.__name__ + '_val'][e] /= n_lotes_val\n",
        "        # guardamos checkpoint y copiamos pesos y sesgos del modelo actual si disminuye la metrica a monitorear\n",
        "        if hist['perdida_val'][e] < perdida_min:\n",
        "            mejor_modelo.load_state_dict(modelo.state_dict())\n",
        "            guarda_ckpt(ckptpath, modelo, e, opt)\n",
        "\n",
        "        registra_info_tboard(tbwriter, e, hist)\n",
        "        print(f'\\nÉpoca {e}: Perdida(E) = {hist[\"perdida_ent\"][e]:.3f}, {metrica.__name__}(E) = {hist[metrica.__name__ + \"_ent\"][e]:.3f}, Perdida(V) = {hist[\"perdida_val\"][e]:.3f}, {metrica.__name__}(V) = {hist[metrica.__name__ + \"_val\"][e]:.3f}')\n",
        "    return modelo, mejor_modelo, hist"
      ]
    },
    {
      "cell_type": "markdown",
      "metadata": {
        "id": "J0jP-V7xwqth"
      },
      "source": [
        "## Modelo de convolución 1d"
      ]
    },
    {
      "cell_type": "markdown",
      "metadata": {
        "id": "NVzP_XHTG5M5"
      },
      "source": [
        "Se creará una red neuronal con una capa convolucional 1d. La red toma un ejemplar aplanado del audio."
      ]
    },
    {
      "cell_type": "code",
      "execution_count": null,
      "metadata": {
        "id": "4PIsYJrpHBb_"
      },
      "outputs": [],
      "source": [
        "red1 = nn.Sequential(nn.Conv1d(x_sample_plano.shape[1], 15, kernel_size=3, padding=1),\n",
        "                     nn.ReLU(),\n",
        "                     nn.Linear(x_sample_plano.shape[-1],20),\n",
        "                     nn.Sigmoid(),\n",
        "                     nn.BatchNorm1d(15),\n",
        "                     nn.Flatten(),\n",
        "                     nn.Dropout(p=0.25),\n",
        "                     nn.Linear(300, NUM_CLASSES))"
      ]
    },
    {
      "cell_type": "markdown",
      "metadata": {
        "id": "75KdjKYDzXAV"
      },
      "source": [
        "Se prueba con un batch de ejemplo."
      ]
    },
    {
      "cell_type": "code",
      "execution_count": null,
      "metadata": {
        "colab": {
          "base_uri": "https://localhost:8080/"
        },
        "id": "IpKK-zb5zawh",
        "outputId": "81630bd9-9f9e-42cb-b17f-d74d4e49e355"
      },
      "outputs": [
        {
          "name": "stdout",
          "output_type": "stream",
          "text": [
            "torch.Size([32, 35])\n"
          ]
        }
      ],
      "source": [
        "yhat_flat = red1.forward(x_sample_plano)\n",
        "print(yhat_flat.shape)"
      ]
    },
    {
      "cell_type": "markdown",
      "metadata": {
        "id": "TAxCdxWtOFW2"
      },
      "source": [
        "Se entrena esta red neuronal y se grafica la pérdida y la exactitud."
      ]
    },
    {
      "cell_type": "code",
      "execution_count": null,
      "metadata": {
        "colab": {
          "base_uri": "https://localhost:8080/"
        },
        "id": "d-FwDgqVOd2e",
        "outputId": "e6f2c5d8-6c58-49ef-d4f2-b2e72354908d"
      },
      "outputs": [
        {
          "name": "stdout",
          "output_type": "stream",
          "text": [
            "\n",
            "Época 0: Perdida(E) = 2.341, exactitud(E) = 0.436, Perdida(V) = 2.287, exactitud(V) = 0.466\n",
            "\n",
            "Época 1: Perdida(E) = 2.245, exactitud(E) = 0.472, Perdida(V) = 2.218, exactitud(V) = 0.488\n",
            "\n",
            "Época 2: Perdida(E) = 2.176, exactitud(E) = 0.497, Perdida(V) = 2.170, exactitud(V) = 0.513\n",
            "\n",
            "Época 3: Perdida(E) = 2.122, exactitud(E) = 0.520, Perdida(V) = 2.150, exactitud(V) = 0.514\n",
            "\n",
            "Época 4: Perdida(E) = 2.079, exactitud(E) = 0.535, Perdida(V) = 2.121, exactitud(V) = 0.532\n",
            "\n",
            "Época 5: Perdida(E) = 2.044, exactitud(E) = 0.547, Perdida(V) = 2.105, exactitud(V) = 0.536\n",
            "\n",
            "Época 6: Perdida(E) = 2.012, exactitud(E) = 0.560, Perdida(V) = 2.113, exactitud(V) = 0.529\n",
            "\n",
            "Época 7: Perdida(E) = 1.986, exactitud(E) = 0.568, Perdida(V) = 2.106, exactitud(V) = 0.531\n",
            "\n",
            "Época 8: Perdida(E) = 1.960, exactitud(E) = 0.578, Perdida(V) = 2.085, exactitud(V) = 0.541\n",
            "\n",
            "Época 9: Perdida(E) = 1.942, exactitud(E) = 0.585, Perdida(V) = 2.093, exactitud(V) = 0.538\n",
            "\n",
            "Época 10: Perdida(E) = 1.925, exactitud(E) = 0.590, Perdida(V) = 2.089, exactitud(V) = 0.539\n",
            "\n",
            "Época 11: Perdida(E) = 1.907, exactitud(E) = 0.597, Perdida(V) = 2.083, exactitud(V) = 0.545\n",
            "\n",
            "Época 12: Perdida(E) = 1.891, exactitud(E) = 0.602, Perdida(V) = 2.073, exactitud(V) = 0.544\n",
            "\n",
            "Época 13: Perdida(E) = 1.878, exactitud(E) = 0.608, Perdida(V) = 2.072, exactitud(V) = 0.546\n",
            "\n",
            "Época 14: Perdida(E) = 1.866, exactitud(E) = 0.613, Perdida(V) = 2.070, exactitud(V) = 0.544\n",
            "\n",
            "Época 15: Perdida(E) = 1.855, exactitud(E) = 0.615, Perdida(V) = 2.077, exactitud(V) = 0.544\n",
            "\n",
            "Época 16: Perdida(E) = 1.845, exactitud(E) = 0.619, Perdida(V) = 2.061, exactitud(V) = 0.549\n",
            "\n",
            "Época 17: Perdida(E) = 1.831, exactitud(E) = 0.625, Perdida(V) = 2.069, exactitud(V) = 0.546\n",
            "\n",
            "Época 18: Perdida(E) = 1.823, exactitud(E) = 0.628, Perdida(V) = 2.071, exactitud(V) = 0.550\n",
            "\n",
            "Época 19: Perdida(E) = 1.814, exactitud(E) = 0.631, Perdida(V) = 2.081, exactitud(V) = 0.539\n"
          ]
        }
      ],
      "source": [
        "red1.to(DC)\n",
        "\n",
        "perdida = nn.CrossEntropyLoss(weight=None, reduction='mean', label_smoothing=0.1)\n",
        "opt = Adam(red1.parameters(), lr=1e-4)\n",
        "\n",
        "red1, mejor_red1, hist = entrena(red1, perdida, exactitud, opt, dl_ent, dl_val, DC, LOGDIR + 'red1.pt', n_epocas=N_EPOCAS, tbdir = LOGDIR, aplanar=True)"
      ]
    },
    {
      "cell_type": "code",
      "execution_count": null,
      "metadata": {
        "colab": {
          "base_uri": "https://localhost:8080/",
          "height": 467
        },
        "id": "GZoQjDScPMAv",
        "outputId": "4673c08d-7614-4628-d477-c1d283161356"
      },
      "outputs": [
        {
          "data": {
            "image/png": "[encoded data removed]",
            "text/plain": [
              "<Figure size 1000x500 with 2 Axes>"
            ]
          },
          "metadata": {},
          "output_type": "display_data"
        }
      ],
      "source": [
        "f,axs = plt.subplots(nrows=1, ncols=2, figsize=(10, 5))\n",
        "\n",
        "axs[0].plot(hist['perdida_ent'], label='Entrenamiento')\n",
        "axs[0].plot(hist['perdida_val'], label='Validación')\n",
        "axs[0].set_xlabel('Época')\n",
        "axs[0].set_ylabel('Pérdida')\n",
        "axs[0].legend()\n",
        "\n",
        "axs[1].plot(hist['exactitud_ent'], label='Entrenamiento')\n",
        "axs[1].plot(hist['exactitud_val'], label='Validación')\n",
        "axs[1].set_xlabel('Época')\n",
        "axs[1].set_ylabel('Exactitud')\n",
        "axs[1].legend()\n",
        "plt.show()"
      ]
    },
    {
      "cell_type": "markdown",
      "metadata": {
        "id": "K0jxhODEfgDf"
      },
      "source": [
        "Se verifica el desempeño en el conjunto de prueba."
      ]
    },
    {
      "cell_type": "code",
      "execution_count": null,
      "metadata": {
        "colab": {
          "base_uri": "https://localhost:8080/"
        },
        "id": "y9WuR48WfrdP",
        "outputId": "65055b43-081b-48c9-abc0-b4908da527ef"
      },
      "outputs": [
        {
          "name": "stdout",
          "output_type": "stream",
          "text": [
            "Exactitud en conjunto de prueba:\n",
            " tensor(0.5437, device='cuda:0')\n"
          ]
        }
      ],
      "source": [
        "total_pru = 0\n",
        "acum_exact = 0.\n",
        "for X_pru, y_pru, _, _ in dl_pru:\n",
        "    X_pru = torch.flatten(X_pru, start_dim=2)\n",
        "    X_pru = X_pru.to(DC)\n",
        "    y_pru = y_pru.to(DC)\n",
        "    y_hat_pru = mejor_red1(X_pru)\n",
        "    total_pru += 1\n",
        "    acum_exact += exactitud(y_hat_pru, y_pru)\n",
        "exact_prom = acum_exact/total_pru\n",
        "print(\"Exactitud en conjunto de prueba:\\n\", exact_prom)"
      ]
    },
    {
      "cell_type": "markdown",
      "metadata": {
        "id": "RiZBj0aRYcH7"
      },
      "source": [
        "## Modelo de convolución 2d\n",
        "\n",
        "Ahora se entrenará una red sin aplanar la onda."
      ]
    },
    {
      "cell_type": "code",
      "execution_count": null,
      "metadata": {
        "id": "c5VvB9PbZ_N0"
      },
      "outputs": [],
      "source": [
        "red2 = nn.Sequential(nn.Conv2d(x_sample.shape[1], 10, kernel_size=3, padding=1),\n",
        "                     nn.ReLU(),\n",
        "                     nn.Linear(x_sample.shape[-1], 20),\n",
        "                     nn.BatchNorm2d(10),\n",
        "                     nn.Flatten(),\n",
        "                     nn.Dropout(p=0.25),\n",
        "                     nn.Linear(25600, NUM_CLASSES))"
      ]
    },
    {
      "cell_type": "markdown",
      "metadata": {
        "id": "SlRqy_TLaOU0"
      },
      "source": [
        "Se prueba con el lote de ejemplo."
      ]
    },
    {
      "cell_type": "code",
      "execution_count": null,
      "metadata": {
        "colab": {
          "base_uri": "https://localhost:8080/"
        },
        "id": "5hnOw4RkaQXM",
        "outputId": "029f9a47-1416-4fcb-99e1-c5307b17a728"
      },
      "outputs": [
        {
          "name": "stdout",
          "output_type": "stream",
          "text": [
            "torch.Size([32, 35])\n"
          ]
        }
      ],
      "source": [
        "y_hat_ds = red2.forward(x_sample)\n",
        "print(y_hat_ds.shape)"
      ]
    },
    {
      "cell_type": "markdown",
      "metadata": {
        "id": "Wd89SyGlqmLo"
      },
      "source": [
        "Entrenamiento."
      ]
    },
    {
      "cell_type": "code",
      "execution_count": null,
      "metadata": {
        "colab": {
          "base_uri": "https://localhost:8080/"
        },
        "id": "CcG6cDTbqoIW",
        "outputId": "61ea2ed4-68d9-43ef-df44-a8a8cea6f424"
      },
      "outputs": [
        {
          "name": "stdout",
          "output_type": "stream",
          "text": [
            "\n",
            "Época 0: Perdida(E) = 2.287, exactitud(E) = 0.509, Perdida(V) = 2.472, exactitud(V) = 0.473\n",
            "\n",
            "Época 1: Perdida(E) = 2.183, exactitud(E) = 0.546, Perdida(V) = 2.429, exactitud(V) = 0.493\n",
            "\n",
            "Época 2: Perdida(E) = 2.122, exactitud(E) = 0.569, Perdida(V) = 2.378, exactitud(V) = 0.499\n",
            "\n",
            "Época 3: Perdida(E) = 2.088, exactitud(E) = 0.581, Perdida(V) = 2.455, exactitud(V) = 0.497\n",
            "\n",
            "Época 4: Perdida(E) = 2.051, exactitud(E) = 0.598, Perdida(V) = 2.518, exactitud(V) = 0.502\n",
            "\n",
            "Época 5: Perdida(E) = 2.025, exactitud(E) = 0.608, Perdida(V) = 2.397, exactitud(V) = 0.507\n",
            "\n",
            "Época 6: Perdida(E) = 2.005, exactitud(E) = 0.616, Perdida(V) = 2.376, exactitud(V) = 0.502\n",
            "\n",
            "Época 7: Perdida(E) = 1.981, exactitud(E) = 0.627, Perdida(V) = 2.364, exactitud(V) = 0.505\n",
            "\n",
            "Época 8: Perdida(E) = 1.965, exactitud(E) = 0.633, Perdida(V) = 2.466, exactitud(V) = 0.502\n",
            "\n",
            "Época 9: Perdida(E) = 1.951, exactitud(E) = 0.638, Perdida(V) = 2.604, exactitud(V) = 0.510\n",
            "\n",
            "Época 10: Perdida(E) = 1.936, exactitud(E) = 0.645, Perdida(V) = 2.481, exactitud(V) = 0.502\n",
            "\n",
            "Época 11: Perdida(E) = 1.928, exactitud(E) = 0.649, Perdida(V) = 2.390, exactitud(V) = 0.514\n",
            "\n",
            "Época 12: Perdida(E) = 1.914, exactitud(E) = 0.653, Perdida(V) = 2.496, exactitud(V) = 0.515\n",
            "\n",
            "Época 13: Perdida(E) = 1.903, exactitud(E) = 0.660, Perdida(V) = 2.525, exactitud(V) = 0.510\n",
            "\n",
            "Época 14: Perdida(E) = 1.894, exactitud(E) = 0.664, Perdida(V) = 2.508, exactitud(V) = 0.516\n",
            "\n",
            "Época 15: Perdida(E) = 1.885, exactitud(E) = 0.667, Perdida(V) = 2.561, exactitud(V) = 0.516\n",
            "\n",
            "Época 16: Perdida(E) = 1.879, exactitud(E) = 0.671, Perdida(V) = 2.459, exactitud(V) = 0.517\n",
            "\n",
            "Época 17: Perdida(E) = 1.872, exactitud(E) = 0.674, Perdida(V) = 2.580, exactitud(V) = 0.516\n",
            "\n",
            "Época 18: Perdida(E) = 1.866, exactitud(E) = 0.676, Perdida(V) = 2.493, exactitud(V) = 0.514\n",
            "\n",
            "Época 19: Perdida(E) = 1.859, exactitud(E) = 0.679, Perdida(V) = 2.484, exactitud(V) = 0.513\n"
          ]
        }
      ],
      "source": [
        "red2.to(DC)\n",
        "\n",
        "perdida = nn.CrossEntropyLoss(weight=None, reduction='mean', label_smoothing=0.1)\n",
        "opt = Adam(red2.parameters(), lr=1e-4)\n",
        "\n",
        "red2, mejor_red2, hist = entrena(red2, perdida, exactitud, opt, dl_ent, dl_val, DC, LOGDIR + 'red2.pt', n_epocas=N_EPOCAS, tbdir = LOGDIR, aplanar=False)"
      ]
    },
    {
      "cell_type": "markdown",
      "metadata": {
        "id": "Oqym-sZvuTBk"
      },
      "source": [
        "Se grafica la pérdida y la exactitud."
      ]
    },
    {
      "cell_type": "code",
      "execution_count": null,
      "metadata": {
        "colab": {
          "base_uri": "https://localhost:8080/",
          "height": 467
        },
        "id": "aeNuOGYWujFC",
        "outputId": "1c90f8f7-f540-4b0c-d90d-5d8e4d39aaff"
      },
      "outputs": [
        {
          "data": {
            "image/png": "[encoded data removed]",
            "text/plain": [
              "<Figure size 1000x500 with 2 Axes>"
            ]
          },
          "metadata": {},
          "output_type": "display_data"
        }
      ],
      "source": [
        "f,axs = plt.subplots(nrows=1, ncols=2, figsize=(10, 5))\n",
        "\n",
        "axs[0].plot(hist['perdida_ent'], label='Entrenamiento')\n",
        "axs[0].plot(hist['perdida_val'], label='Validación')\n",
        "axs[0].set_xlabel('Época')\n",
        "axs[0].set_ylabel('Pérdida')\n",
        "axs[0].legend()\n",
        "\n",
        "axs[1].plot(hist['exactitud_ent'], label='Entrenamiento')\n",
        "axs[1].plot(hist['exactitud_val'], label='Validación')\n",
        "axs[1].set_xlabel('Época')\n",
        "axs[1].set_ylabel('Exactitud')\n",
        "axs[1].legend()\n",
        "plt.show()"
      ]
    },
    {
      "cell_type": "code",
      "execution_count": null,
      "metadata": {
        "colab": {
          "base_uri": "https://localhost:8080/"
        },
        "id": "Uefli9LTuwyJ",
        "outputId": "6fc7c0f7-31f9-4a3f-fb60-68aaff97219e",
        "tags": []
      },
      "outputs": [
        {
          "name": "stdout",
          "output_type": "stream",
          "text": [
            "Exactitud en conjunto de prueba:\n",
            " tensor(0.5169, device='cuda:0')\n"
          ]
        }
      ],
      "source": [
        "total_pru = 0\n",
        "acum_exact = 0.\n",
        "for X_pru, y_pru, _, _ in dl_pru:\n",
        "    X_pru = X_pru.to(DC)\n",
        "    y_pru = y_pru.to(DC)\n",
        "    y_hat_pru = mejor_red2(X_pru)\n",
        "    total_pru += 1\n",
        "    acum_exact += exactitud(y_hat_pru, y_pru)\n",
        "exact_prom = acum_exact/total_pru\n",
        "print(\"Exactitud en conjunto de prueba:\\n\", exact_prom)"
      ]
    },
    {
      "cell_type": "markdown",
      "metadata": {
        "id": "G5S0pg5wS_Yk"
      },
      "source": [
        "En ambos casos se observa una mejora en el conjunto de entrenamiento pero no en el de validación, lo cual puede indicar un sobreajuste. Sin embargo, el modelo aplanado mejoró un poco más que el no aplanado pues su exactitud en el conjunto de prueba fue de 54.37% y en el no aplanado fue de 51.69%.\n",
        "\n",
        "También se puede observar cómo en el modelo 1-D, en el conjunto de validación se tiene una mejora al principio y luego se estanca en una meseta. Por otra parte, en el modelo no aplanado casi no se notan mejoras."
      ]
    },
    {
      "cell_type": "code",
      "execution_count": null,
      "metadata": {
        "id": "45lPWVLgS_Yk"
      },
      "outputs": [],
      "source": []
    }
  ],
  "metadata": {
    "accelerator": "GPU",
    "colab": {
      "gpuType": "T4",
      "provenance": []
    },
    "kernelspec": {
      "display_name": "Python 3 (ipykernel)",
      "language": "python",
      "name": "python3"
    },
    "language_info": {
      "codemirror_mode": {
        "name": "ipython",
        "version": 3
      },
      "file_extension": ".py",
      "mimetype": "text/x-python",
      "name": "python",
      "nbconvert_exporter": "python",
      "pygments_lexer": "ipython3",
      "version": "3.10.12"
    }
  },
  "nbformat": 4,
  "nbformat_minor": 0
}