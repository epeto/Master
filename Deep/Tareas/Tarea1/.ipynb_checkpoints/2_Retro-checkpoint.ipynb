{
 "cells": [
  {
   "cell_type": "markdown",
   "metadata": {
    "id": "jnDQX_x_sqwT"
   },
   "source": [
    "## Retropropagación en red densa"
   ]
  },
  {
   "cell_type": "code",
   "execution_count": 1,
   "metadata": {
    "executionInfo": {
     "elapsed": 498,
     "status": "ok",
     "timestamp": 1696844284376,
     "user": {
      "displayName": "Emmanuel Peto",
      "userId": "01811288877355011407"
     },
     "user_tz": 360
    },
    "id": "Yf4OLZkbtBdK"
   },
   "outputs": [],
   "source": [
    "import numpy as np\n",
    "import math\n",
    "import matplotlib.pyplot as plt\n",
    "from collections.abc import Iterable\n",
    "from sklearn.datasets import load_iris\n",
    "from sklearn.model_selection import train_test_split\n",
    "from sklearn.preprocessing import StandardScaler"
   ]
  },
  {
   "cell_type": "markdown",
   "metadata": {
    "id": "OMAQLxQ2tEsS"
   },
   "source": [
    "Primero se definirán las funciones."
   ]
  },
  {
   "cell_type": "code",
   "execution_count": 2,
   "metadata": {
    "executionInfo": {
     "elapsed": 189,
     "status": "ok",
     "timestamp": 1696844284563,
     "user": {
      "displayName": "Emmanuel Peto",
      "userId": "01811288877355011407"
     },
     "user_tz": 360
    },
    "id": "g3OqAYSktHSV"
   },
   "outputs": [],
   "source": [
    "# Función sigmoide\n",
    "def sigmoide(z):\n",
    "    return 1/(1+np.exp(-z))"
   ]
  },
  {
   "cell_type": "code",
   "execution_count": 3,
   "metadata": {
    "executionInfo": {
     "elapsed": 20,
     "status": "ok",
     "timestamp": 1696844284564,
     "user": {
      "displayName": "Emmanuel Peto",
      "userId": "01811288877355011407"
     },
     "user_tz": 360
    },
    "id": "i2-YHQLFJkt2"
   },
   "outputs": [],
   "source": [
    "# Derivada de la sigmoide\n",
    "def derivada_sigmoide(x):\n",
    "    s = sigmoide(x)\n",
    "    return s*(1.0 - s)"
   ]
  },
  {
   "cell_type": "code",
   "execution_count": 4,
   "metadata": {
    "executionInfo": {
     "elapsed": 20,
     "status": "ok",
     "timestamp": 1696844284565,
     "user": {
      "displayName": "Emmanuel Peto",
      "userId": "01811288877355011407"
     },
     "user_tz": 360
    },
    "id": "dY_4iBqYtkgi"
   },
   "outputs": [],
   "source": [
    "# Función ReLU\n",
    "def relu(z):\n",
    "    if isinstance(z, Iterable):\n",
    "        return np.array(list(map(relu, z)))\n",
    "    else:\n",
    "        return max(0.0, z)"
   ]
  },
  {
   "cell_type": "code",
   "execution_count": 5,
   "metadata": {
    "executionInfo": {
     "elapsed": 19,
     "status": "ok",
     "timestamp": 1696844284565,
     "user": {
      "displayName": "Emmanuel Peto",
      "userId": "01811288877355011407"
     },
     "user_tz": 360
    },
    "id": "RrF47l8WZJA3"
   },
   "outputs": [],
   "source": [
    "# Derivada de la ReLU\n",
    "def derivada_relu(z):\n",
    "    if isinstance(z, Iterable):\n",
    "        return np.array(list(map(derivada_relu, z)))\n",
    "    else:\n",
    "        if z < 0:\n",
    "            return 0\n",
    "        else:\n",
    "            return 1"
   ]
  },
  {
   "cell_type": "code",
   "execution_count": 6,
   "metadata": {
    "executionInfo": {
     "elapsed": 19,
     "status": "ok",
     "timestamp": 1696844284566,
     "user": {
      "displayName": "Emmanuel Peto",
      "userId": "01811288877355011407"
     },
     "user_tz": 360
    },
    "id": "r578AeoLUsfW"
   },
   "outputs": [],
   "source": [
    "# Entropía cruzada binaria\n",
    "def ecb(y, y_hat):\n",
    "    y_hat[y_hat == 0] = np.nextafter(0., 1.)\n",
    "    y_hat[y_hat == 1] = np.nextafter(1., 0.)\n",
    "    n = y.shape[0]\n",
    "    return -(np.log(y_hat[y == 1]).sum() + np.log(1 - y_hat[y == 0]).sum())"
   ]
  },
  {
   "cell_type": "code",
   "execution_count": 7,
   "metadata": {
    "executionInfo": {
     "elapsed": 18,
     "status": "ok",
     "timestamp": 1696844284567,
     "user": {
      "displayName": "Emmanuel Peto",
      "userId": "01811288877355011407"
     },
     "user_tz": 360
    },
    "id": "yVmdCtJ6v87x"
   },
   "outputs": [],
   "source": [
    "# Entropía cruzada binaria promedio\n",
    "def ecb_prom(y, y_hat):\n",
    "    n = y.shape[0]\n",
    "    return ecb(y, y_hat)/n"
   ]
  },
  {
   "cell_type": "code",
   "execution_count": 8,
   "metadata": {
    "executionInfo": {
     "elapsed": 18,
     "status": "ok",
     "timestamp": 1696844284567,
     "user": {
      "displayName": "Emmanuel Peto",
      "userId": "01811288877355011407"
     },
     "user_tz": 360
    },
    "id": "owzu0xzGY-eQ"
   },
   "outputs": [],
   "source": [
    "# Calcula la exactitud de un modelo\n",
    "def exactitud(y, y_hat):\n",
    "    return (y == y_hat).mean()*100"
   ]
  },
  {
   "cell_type": "markdown",
   "metadata": {
    "id": "TbhTyFUp7fGn"
   },
   "source": [
    "La propagación hacia adelante está dada por:\n",
    "\n",
    "$ Z^{\\{1\\}} = X \\cdot W^{\\{1\\}} + b^{\\{1\\}}$\n",
    "\n",
    "$ A^{\\{1\\}} = ReLU(Z^{\\{1\\}})$\n",
    "\n",
    "$ Z^{\\{2\\}} = A^{\\{1\\}} \\cdot W^{\\{2\\}} + b^{\\{2\\}}$\n",
    "\n",
    "$ A^{\\{2\\}} = ReLU(Z^{\\{2\\}})$\n",
    "\n",
    "$ Z^{\\{3\\}} = A^{\\{2\\}} \\cdot W^{\\{3\\}} + b^{\\{3\\}}$\n",
    "\n",
    "$A^{\\{3\\}} = \\sigma (Z^{\\{3\\}})$\n",
    "\n",
    "$\\hat{y} = A^{\\{3\\}} $"
   ]
  },
  {
   "cell_type": "code",
   "execution_count": 9,
   "metadata": {
    "executionInfo": {
     "elapsed": 16,
     "status": "ok",
     "timestamp": 1696844284567,
     "user": {
      "displayName": "Emmanuel Peto",
      "userId": "01811288877355011407"
     },
     "user_tz": 360
    },
    "id": "19Xvue7ezHPM"
   },
   "outputs": [],
   "source": [
    "# Propagación hacia adelante con red densa de 2 capas ocultas\n",
    "# 2 capas ocultas con ReLu y 1 capa de salida con logit.\n",
    "def forward_v1(X, W1, b1, W2, b2, W3, b3):\n",
    "    Z1 = X @ W1 + b1\n",
    "    A1 = relu(Z1)\n",
    "    Z2 = A1 @ W2 + b2\n",
    "    A2 = relu(Z2)\n",
    "    Z3 = A2 @ W3 + b3\n",
    "    A3 = sigmoide(Z3)\n",
    "    return Z1, A1, Z2, A2, Z3, A3"
   ]
  },
  {
   "cell_type": "markdown",
   "metadata": {
    "id": "BAxEYXhPAS67"
   },
   "source": [
    "* Primer caso: $\\frac{\\partial ECB}{\\partial W^{\\{3\\}}}$ y $\\frac{\\partial ECB}{\\partial b^{\\{3\\}}}$\n",
    "\n",
    "$\\frac{\\partial ECB}{\\partial W^{\\{3\\}}} = \\frac{\\partial Z^{\\{3\\}}}{\\partial W^{\\{3\\}}} \\cdot \\frac{\\partial ECB}{\\partial Z^{\\{3\\}}}$\n",
    "\n",
    "1. $\\frac{\\partial Z^{\\{3\\}}}{\\partial W^{\\{3\\}}} = A^{\\{2\\}}$\n",
    "\n",
    "2. $\\frac{\\partial ECB}{\\partial Z^{\\{3\\}}} = \\frac{\\hat{y} - y}{n}$\n",
    "\n",
    "$\\frac{\\partial ECB}{\\partial W^{\\{3\\}}} = A^{\\{2\\} \\top} \\cdot \\frac{\\hat{y} - y}{n}$\n",
    "\n",
    "$\\frac{\\partial ECB}{\\partial b^{\\{3\\}}} = \\frac{1}{n} \\sum_{i=1}^n (\\hat{y}^{(i)} - y^{(i)})$"
   ]
  },
  {
   "cell_type": "markdown",
   "metadata": {
    "id": "E3WRnDz_9Fyk"
   },
   "source": [
    "* Segundo caso: $\\frac{\\partial ECB}{\\partial W^{\\{2\\}}}$ y $\\frac{\\partial ECB}{\\partial b^{\\{2\\}}}$\n",
    "\n",
    "1. $\\frac{\\partial A^{\\{2\\}}}{\\partial Z^{\\{2\\}}} = ReLU'(Z^{\\{2\\}})$\n",
    "\n",
    "2. $\\frac{\\partial Z^{\\{2\\}}}{\\partial W^{\\{2\\}}} = A^{\\{1\\}}$\n",
    "3. $\\frac{\\partial A^{\\{2\\}}}{\\partial W^{\\{2\\}}} = \\frac{\\partial Z^{\\{2\\}}}{\\partial W^{\\{2\\}}} \\cdot \\frac{\\partial A^{\\{2\\}}}{\\partial Z^{\\{2\\}}} = A^{\\{1\\} \\top} \\cdot ReLU'(Z^{\\{2\\}})$\n",
    "4. $\\frac{\\partial Z^{\\{3\\}}}{\\partial A^{\\{2\\}}} = W^{\\{3\\}}$\n",
    "5. $\\frac{\\partial Z^{\\{3\\}}}{\\partial W^{\\{2\\}}} = \\frac{\\partial A^{\\{2\\}}}{\\partial W^{\\{2\\}}} \\cdot \\frac{\\partial Z^{\\{3\\}}}{\\partial A^{\\{2\\}}} = A^{\\{1\\} \\top} \\cdot ReLU'(Z^{\\{2\\}}) \\cdot W^{\\{3\\}}$\n",
    "6. $\\frac{\\partial ECB}{\\partial W^{\\{2\\}}} = \\frac{\\partial Z^{\\{3\\}}}{\\partial W^{\\{2\\}}} \\cdot \\frac{\\partial ECB}{\\partial Z^{\\{3\\}}} = A^{\\{1\\} \\top} \\cdot ReLU'(Z^{\\{2\\}}) \\cdot W^{\\{3\\}} \\cdot \\frac{\\hat{y} - y}{n}$\n",
    "\n",
    "Sea $\\delta_2 = ReLU'(Z^{\\{2\\}}) \\odot (\\frac{\\hat{y} - y}{n} \\cdot W^{\\{3\\} \\top})$\n",
    "\n",
    "Entonces\n",
    "\n",
    "$\\frac{\\partial ECB}{\\partial W^{\\{2\\}}} = A^{\\{1\\} \\top} \\cdot \\delta_2$\n",
    "\n",
    "$\\frac{\\partial ECB}{\\partial b^{\\{2\\}}} = \\sum_{i=1}^n \\delta_2^{(i)}$"
   ]
  },
  {
   "cell_type": "markdown",
   "metadata": {
    "id": "a5CZdXwp9KpT"
   },
   "source": [
    "* Tercer caso: $\\frac{\\partial ECB}{\\partial W^{\\{1\\}}}$ y $\\frac{\\partial ECB}{\\partial b^{\\{1\\}}}$\n",
    "\n",
    "1. $\\frac{\\partial Z^{\\{1\\}}}{\\partial W^{\\{1\\}}} = X$\n",
    "\n",
    "2. $\\frac{\\partial A^{\\{1\\}}}{\\partial Z^{\\{1\\}}} = ReLU'(Z^{\\{1\\}})$\n",
    "3. $\\frac{\\partial A^{\\{1\\}}}{\\partial W^{\\{1\\}}} = \\frac{\\partial Z^{\\{1\\}}}{\\partial W^{\\{1\\}}} \\cdot \\frac{\\partial A^{\\{1\\}}}{\\partial Z^{\\{1\\}}} = X \\cdot ReLU'(Z^{\\{1\\}})$\n",
    "4. $\\frac{\\partial Z^{\\{2\\}}}{\\partial A^{\\{1\\}}} = W^{\\{2\\}}$\n",
    "5. $\\frac{\\partial Z^{\\{2\\}}}{\\partial W^{\\{1\\}}} = \\frac{\\partial A^{\\{1\\}}}{\\partial W^{\\{1\\}}} \\cdot \\frac{\\partial Z^{\\{2\\}}}{\\partial A^{\\{1\\}}} = X \\cdot ReLU'(Z^{\\{1\\}}) \\cdot W^{\\{2\\}}$\n",
    "6. $\\frac{\\partial A^{\\{2\\}}}{\\partial W^{\\{1\\}}} = \\frac{\\partial Z^{\\{2\\}}}{\\partial W^{\\{1\\}}} \\cdot \\frac{\\partial A^{\\{2\\}}}{\\partial Z^{\\{2\\}}} = X \\cdot ReLU'(Z^{\\{1\\}}) \\cdot W^{\\{2\\}} \\cdot ReLU' (Z^{\\{2\\}})$\n",
    "7. $\\frac{\\partial Z^{\\{3\\}}}{\\partial W^{\\{1\\}}} = \\frac{\\partial A^{\\{2\\}}}{\\partial W^{\\{1\\}}} \\cdot \\frac{\\partial Z^{\\{3\\}}}{\\partial A^{\\{2\\}}} = X \\cdot ReLU'(Z^{\\{1\\}}) \\cdot W^{\\{2\\}} \\cdot ReLU' (Z^{\\{2\\}}) \\cdot W^{\\{3\\}}$\n",
    "8. $\\frac{\\partial ECB}{\\partial W^{\\{1\\}}} = \\frac{\\partial Z^{\\{3\\}}}{\\partial W^{\\{1\\}}} \\cdot \\frac{\\partial ECB}{\\partial Z^{\\{3\\}}} = X \\cdot ReLU'(Z^{\\{1\\}}) \\cdot W^{\\{2\\}} \\cdot ReLU' (Z^{\\{2\\}}) \\cdot W^{\\{3\\}} \\cdot \\frac{\\hat{y} - y}{n}$\n",
    "\n",
    "Sea $\\delta_1 = ReLU'(Z^{\\{1\\}}) \\odot ((ReLU'(Z^{\\{2\\}}) \\odot (\\frac{\\hat{y} - y}{n}) \\cdot W^{\\{3\\} \\top}) \\cdot W^{\\{2\\} \\top}) \\\\\n",
    "= ReLU'(Z^{\\{1\\}}) \\odot (\\delta_2 \\cdot W^{\\{2\\} \\top})$\n",
    "\n",
    "Entonces\n",
    "\n",
    "$\\frac{\\partial ECB}{\\partial W^{\\{1\\}}} = X^{\\top} \\cdot \\delta_1$\n",
    "\n",
    "$\\frac{\\partial ECB}{\\partial b^{\\{1\\}}} = \\sum_{i=1}^n \\delta_1^{(i)}$"
   ]
  },
  {
   "cell_type": "markdown",
   "metadata": {
    "id": "qkSBp3YTQ8ms"
   },
   "source": [
    "Ahora programamos el algoritmo de retropropagación."
   ]
  },
  {
   "cell_type": "code",
   "execution_count": 10,
   "metadata": {
    "executionInfo": {
     "elapsed": 15,
     "status": "ok",
     "timestamp": 1696844284568,
     "user": {
      "displayName": "Emmanuel Peto",
      "userId": "01811288877355011407"
     },
     "user_tz": 360
    },
    "id": "qfypWROxU9bf"
   },
   "outputs": [],
   "source": [
    "def back_v1(X, y, alpha = 0.01, n_epocas = 100, n_ocultas = 10):\n",
    "    n_ejemplos = X.shape[0]\n",
    "    n_entradas = X.shape[1]\n",
    "    y = y[:,np.newaxis] # línea agregada\n",
    "    W1 = np.sqrt(1.0/n_entradas) * np.random.randn(n_entradas, n_ocultas)\n",
    "    b1 = np.zeros((1, n_ocultas))\n",
    "    W2 = np.sqrt(1.0/n_ocultas) * np.random.randn(n_ocultas, n_ocultas)\n",
    "    b2 = np.zeros((1, n_ocultas))\n",
    "    W3 = np.sqrt(1.0/n_ocultas) * np.random.randn(n_ocultas, 1)\n",
    "    b3 = np.zeros((1,1))\n",
    "    perdidas = np.zeros((n_epocas))\n",
    "    exactitudes = np.zeros((n_epocas))\n",
    "    for i in range(n_epocas):\n",
    "        Z1, A1, Z2, A2, Z3, y_hat = forward_v1(X, W1, b1, W2, b2, W3, b3)\n",
    "        # cálculo de gradientes para W3 y b3\n",
    "        delta3 = (y_hat - y)\n",
    "        delta3 = delta3/n_ejemplos\n",
    "        dW3 = A2.T @ delta3\n",
    "        db3 = delta3.sum(axis = 0)\n",
    "        # cálculo de gradientes para W2 y b2\n",
    "        delta2 = (delta3 @ W3.T) * derivada_relu(Z2)\n",
    "        dW2 = A1.T @ delta2\n",
    "        db2 = delta2.sum(axis = 0)\n",
    "        # cálculo de gradientes para W1 y b1\n",
    "        delta1 = (delta2 @ W2.T) * derivada_relu(Z1)\n",
    "        dW1 = X.T @ delta1\n",
    "        db1 = delta1.sum(axis = 0)\n",
    "        # actualización de parámetros\n",
    "        W3 -= alpha*dW3\n",
    "        b3 -= alpha*db3\n",
    "        W2 -= alpha*dW2\n",
    "        b2 -= alpha*db2\n",
    "        W1 -= alpha*dW1\n",
    "        b1 -= alpha*db1\n",
    "        # calcula la pérdida en la época\n",
    "        perdidas[i] = ecb_prom(y, y_hat)\n",
    "        exactitudes[i] = exactitud(y, np.round(y_hat))\n",
    "        # print(f'Epoch {i}: Pérdida = {perdidas[i]} Exactitud = {exactitudes[i]}')\n",
    "    return W1, b1, W2, b2, W3, b3, perdidas, exactitudes"
   ]
  },
  {
   "cell_type": "markdown",
   "metadata": {
    "id": "GBWSlY_DeVPw"
   },
   "source": [
    "Ahora se hará una modificación a la red neuronal:\n",
    "* Las neuronas de capas ocultas tendrán función de activación sigmoide y\n",
    "* La función de pérdida será la entropía cruzada binaria (sin promediar).\n",
    "\n",
    "Para ello, se definirá una versión 2 de las funciones:\n",
    "* *forward-propagation* y\n",
    "* *back-propagation*"
   ]
  },
  {
   "cell_type": "code",
   "execution_count": 11,
   "metadata": {
    "executionInfo": {
     "elapsed": 14,
     "status": "ok",
     "timestamp": 1696844284568,
     "user": {
      "displayName": "Emmanuel Peto",
      "userId": "01811288877355011407"
     },
     "user_tz": 360
    },
    "id": "71fVGuPffRpp"
   },
   "outputs": [],
   "source": [
    "# Propagación hacia adelante con red densa de 2 capas ocultas\n",
    "# 2 capas ocultas con logit y 1 capa de salida con logit.\n",
    "def forward_v2(X, W1, b1, W2, b2, W3, b3):\n",
    "    Z1 = X @ W1 + b1\n",
    "    A1 = sigmoide(Z1)\n",
    "    Z2 = A1 @ W2 + b2\n",
    "    A2 = sigmoide(Z2)\n",
    "    Z3 = A2 @ W3 + b3\n",
    "    A3 = sigmoide(Z3)\n",
    "    return Z1, A1, Z2, A2, Z3, A3"
   ]
  },
  {
   "cell_type": "code",
   "execution_count": 12,
   "metadata": {
    "executionInfo": {
     "elapsed": 14,
     "status": "ok",
     "timestamp": 1696844284569,
     "user": {
      "displayName": "Emmanuel Peto",
      "userId": "01811288877355011407"
     },
     "user_tz": 360
    },
    "id": "MMJCkQa-fjGl"
   },
   "outputs": [],
   "source": [
    "def back_v2(X, y, alpha = 0.01, n_epocas = 100, n_ocultas = 10):\n",
    "    n_ejemplos = X.shape[0]\n",
    "    n_entradas = X.shape[1]\n",
    "    y = y[:,np.newaxis] # línea agregada\n",
    "    W1 = np.sqrt(1.0/n_entradas) * np.random.randn(n_entradas, n_ocultas)\n",
    "    b1 = np.zeros((1, n_ocultas))\n",
    "    W2 = np.sqrt(1.0/n_ocultas) * np.random.randn(n_ocultas, n_ocultas)\n",
    "    b2 = np.zeros((1, n_ocultas))\n",
    "    W3 = np.sqrt(1.0/n_ocultas) * np.random.randn(n_ocultas, 1)\n",
    "    b3 = np.zeros((1,1))\n",
    "    perdidas = np.zeros((n_epocas))\n",
    "    exactitudes = np.zeros((n_epocas))\n",
    "    for i in range(n_epocas):\n",
    "        Z1, A1, Z2, A2, Z3, y_hat = forward_v2(X, W1, b1, W2, b2, W3, b3)\n",
    "        # cálculo de gradientes para W3 y b3\n",
    "        delta3 = y_hat - y\n",
    "        dW3 = A2.T @ delta3\n",
    "        db3 = delta3.sum(axis = 0)\n",
    "        # cálculo de gradientes para W2 y b2\n",
    "        delta2 = (delta3 @ W3.T) * derivada_sigmoide(Z2)\n",
    "        dW2 = A1.T @ delta2\n",
    "        db2 = delta2.sum(axis = 0)\n",
    "        # cálculo de gradientes para W1 y b1\n",
    "        delta1 = (delta2 @ W2.T) * derivada_sigmoide(Z1)\n",
    "        dW1 = X.T @ delta1\n",
    "        db1 = delta1.sum(axis = 0)\n",
    "        # actualización de parámetros\n",
    "        W3 -= alpha*dW3\n",
    "        b3 -= alpha*db3\n",
    "        W2 -= alpha*dW2\n",
    "        b2 -= alpha*db2\n",
    "        W1 -= alpha*dW1\n",
    "        b1 -= alpha*db1\n",
    "        # calcula la pérdida en la época\n",
    "        perdidas[i] = ecb(y, y_hat)\n",
    "        exactitudes[i] = exactitud(y, np.round(y_hat))\n",
    "        # print(f'Epoch {i}: Pérdida = {perdidas[i]} Exactitud = {exactitudes[i]}')\n",
    "    return W1, b1, W2, b2, W3, b3, perdidas, exactitudes"
   ]
  },
  {
   "cell_type": "markdown",
   "metadata": {
    "id": "8ijt-gmuiOdR"
   },
   "source": [
    "Se tomará el conjunto de datos de *iris* de scikit-learn para evaluar los modelos."
   ]
  },
  {
   "cell_type": "code",
   "execution_count": 13,
   "metadata": {
    "executionInfo": {
     "elapsed": 149,
     "status": "ok",
     "timestamp": 1696844284704,
     "user": {
      "displayName": "Emmanuel Peto",
      "userId": "01811288877355011407"
     },
     "user_tz": 360
    },
    "id": "Bj_WZPAji-T4"
   },
   "outputs": [],
   "source": [
    "X, y = load_iris(return_X_y=True)\n",
    "X = X[:100] # tomamos solo los primeros 100 valores (pues de 101 en adelante son clase 2)\n",
    "y = y[:100]\n",
    "X_train, X_test, y_train, y_test = train_test_split(X, y, test_size=0.2, random_state=142, shuffle=True)\n",
    "# Se normalizan los datos\n",
    "escalador = StandardScaler()\n",
    "escalador.fit(X_train)\n",
    "X_train = escalador.transform(X_train)\n",
    "X_test = escalador.transform(X_test)"
   ]
  },
  {
   "cell_type": "markdown",
   "metadata": {
    "id": "hcEdSolFpcy7"
   },
   "source": [
    "Se ejecutan los algoritmos de back-propagation y se calculan los valores de pesos, sesgos, pérdidas y exactitudes, respecto al conjunto de datos de entrenamiento."
   ]
  },
  {
   "cell_type": "code",
   "execution_count": 14,
   "metadata": {
    "executionInfo": {
     "elapsed": 1856,
     "status": "ok",
     "timestamp": 1696844286555,
     "user": {
      "displayName": "Emmanuel Peto",
      "userId": "01811288877355011407"
     },
     "user_tz": 360
    },
    "id": "7nyTR7HzpoOG"
   },
   "outputs": [],
   "source": [
    "np.random.seed(142)\n",
    "W1_v1, b1_v1, W2_v1, b2_v1, W3_v1, b3_v1, perdidas_v1, exactitudes_v1 = back_v1(X_train, y_train, alpha = 0.01, n_epocas = 500, n_ocultas = 10)\n",
    "W1_v2, b1_v2, W2_v2, b2_v2, W3_v2, b3_v2, perdidas_v2, exactitudes_v2 = back_v2(X_train, y_train, alpha = 0.01, n_epocas = 500, n_ocultas = 10)"
   ]
  },
  {
   "cell_type": "markdown",
   "metadata": {
    "id": "loXYX_UQvIKS"
   },
   "source": [
    "Ahora se observa la evolución de las funciones de pérdida respecto a la época."
   ]
  },
  {
   "cell_type": "code",
   "execution_count": 15,
   "metadata": {
    "colab": {
     "base_uri": "https://localhost:8080/",
     "height": 474
    },
    "executionInfo": {
     "elapsed": 417,
     "status": "ok",
     "timestamp": 1696844286967,
     "user": {
      "displayName": "Emmanuel Peto",
      "userId": "01811288877355011407"
     },
     "user_tz": 360
    },
    "id": "yfGiicshvOD3",
    "outputId": "0f8aa131-6a06-4479-e2e5-f496a9a5702d"
   },
   "outputs": [
    {
     "data": {
      "image/png": "[encoded data removed]",
      "text/plain": [
       "<Figure size 640x480 with 1 Axes>"
      ]
     },
     "metadata": {},
     "output_type": "display_data"
    }
   ],
   "source": [
    "plt.plot(np.arange(perdidas_v1.size), perdidas_v1)\n",
    "plt.grid(True)\n",
    "plt.title(\"Red - versión 1\")\n",
    "plt.xlabel(\"Época\")\n",
    "plt.ylabel(\"ECB promedio\")\n",
    "plt.show()"
   ]
  },
  {
   "cell_type": "code",
   "execution_count": 16,
   "metadata": {
    "colab": {
     "base_uri": "https://localhost:8080/",
     "height": 474
    },
    "executionInfo": {
     "elapsed": 336,
     "status": "ok",
     "timestamp": 1696844287292,
     "user": {
      "displayName": "Emmanuel Peto",
      "userId": "01811288877355011407"
     },
     "user_tz": 360
    },
    "id": "CoaKM_AMwHwB",
    "outputId": "d3f99a4e-8e5a-4aec-9214-1d8c48f265e2"
   },
   "outputs": [
    {
     "data": {
      "image/png": "[encoded data removed]",
      "text/plain": [
       "<Figure size 640x480 with 1 Axes>"
      ]
     },
     "metadata": {},
     "output_type": "display_data"
    }
   ],
   "source": [
    "plt.plot(np.arange(perdidas_v2.size), perdidas_v2)\n",
    "plt.grid(True)\n",
    "plt.title(\"Red - versión 2\")\n",
    "plt.xlabel(\"Época\")\n",
    "plt.ylabel(\"ECB\")\n",
    "plt.show()"
   ]
  },
  {
   "cell_type": "markdown",
   "metadata": {
    "id": "y61j5aeixEz_"
   },
   "source": [
    "Ahora se comparan las exactitudes (en el conjunto de entrenamiento) de las dos versiones de la red."
   ]
  },
  {
   "cell_type": "code",
   "execution_count": 17,
   "metadata": {
    "colab": {
     "base_uri": "https://localhost:8080/",
     "height": 430
    },
    "executionInfo": {
     "elapsed": 233,
     "status": "ok",
     "timestamp": 1696844287512,
     "user": {
      "displayName": "Emmanuel Peto",
      "userId": "01811288877355011407"
     },
     "user_tz": 360
    },
    "id": "esaEBdH7xZfV",
    "outputId": "c772ea7d-1ba0-4a3c-bda3-a8736ae3a3e9"
   },
   "outputs": [
    {
     "data": {
      "image/png": "[encoded data removed]",
      "text/plain": [
       "<Figure size 640x480 with 1 Axes>"
      ]
     },
     "metadata": {},
     "output_type": "display_data"
    }
   ],
   "source": [
    "plt.plot(np.arange(exactitudes_v1.size), exactitudes_v1, label='Exactitud - v1')\n",
    "plt.plot(np.arange(exactitudes_v2.size), exactitudes_v2, label='Exactitud - v2')\n",
    "plt.legend()\n",
    "plt.grid(True)\n",
    "plt.show()"
   ]
  },
  {
   "cell_type": "markdown",
   "metadata": {
    "id": "oT7fvnlNx48W"
   },
   "source": [
    "Finalmente, se comparan las exactitudes en el conjunto de prueba."
   ]
  },
  {
   "cell_type": "code",
   "execution_count": 21,
   "metadata": {
    "colab": {
     "base_uri": "https://localhost:8080/"
    },
    "executionInfo": {
     "elapsed": 136,
     "status": "ok",
     "timestamp": 1696844533814,
     "user": {
      "displayName": "Emmanuel Peto",
      "userId": "01811288877355011407"
     },
     "user_tz": 360
    },
    "id": "srqncByTx9ln",
    "outputId": "42c90270-370d-4b98-9948-7deb242f2c82"
   },
   "outputs": [
    {
     "name": "stdout",
     "output_type": "stream",
     "text": [
      "Exactitud, red-versión 1 = 100.0\n",
      "Exactitud, red-versión 2 = 100.0\n"
     ]
    }
   ],
   "source": [
    "_, _, _, _, _, y_hat_v1 = forward_v1(X_test, W1_v1, b1_v1, W2_v1, b2_v1, W3_v1, b3_v1)\n",
    "exact_v1 = exactitud(y_test[:,np.newaxis], np.round(y_hat_v1))\n",
    "_, _, _, _, _, y_hat_v2 = forward_v2(X_test, W1_v2, b1_v2, W2_v2, b2_v2, W3_v2, b3_v2)\n",
    "exact_v2 = exactitud(y_test[:,np.newaxis], np.round(y_hat_v2))\n",
    "print(\"Exactitud, red-versión 1 =\", exact_v1)\n",
    "print(\"Exactitud, red-versión 2 =\", exact_v2)"
   ]
  }
 ],
 "metadata": {
  "colab": {
   "authorship_tag": "ABX9TyO7jtkuDfAqJyH0i5G+12Ti",
   "provenance": []
  },
  "kernelspec": {
   "display_name": "Python 3 (ipykernel)",
   "language": "python",
   "name": "python3"
  },
  "language_info": {
   "codemirror_mode": {
    "name": "ipython",
    "version": 3
   },
   "file_extension": ".py",
   "mimetype": "text/x-python",
   "name": "python",
   "nbconvert_exporter": "python",
   "pygments_lexer": "ipython3",
   "version": "3.10.12"
  }
 },
 "nbformat": 4,
 "nbformat_minor": 1
}
